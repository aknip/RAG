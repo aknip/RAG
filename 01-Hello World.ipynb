{
 "cells": [
  {
   "cell_type": "markdown",
   "id": "f866cc0a-460e-4dbf-91b7-f541a4c0eda6",
   "metadata": {
    "id": "f866cc0a-460e-4dbf-91b7-f541a4c0eda6"
   },
   "source": [
    "# Chroma DB"
   ]
  },
  {
   "cell_type": "markdown",
   "id": "8e8d789e",
   "metadata": {},
   "source": [
    "# Setup"
   ]
  },
  {
   "cell_type": "markdown",
   "id": "b59dcd24-1a35-4d6f-90ac-2eadfb9336bb",
   "metadata": {},
   "source": [
    "# Run from an virtualenv!\n",
    "```\n",
    "python3 -m virtualenv myenv \n",
    "source myenv/bin/activate \n",
    "# pip install notebook\n",
    "jupyter notebook\n",
    "```"
   ]
  },
  {
   "cell_type": "code",
   "execution_count": null,
   "id": "dac9d9b9",
   "metadata": {},
   "outputs": [],
   "source": [
    "# Only needed, if pip-installs of the next cells do not work correctly\n",
    "# !pip freeze | grep llama | xargs pip uninstall -y\n",
    "# !pip install -U llama-index llama-index-llms-azure-openai llama-index-embeddings-azure-openai --force-reinstall --no-cache-dir"
   ]
  },
  {
   "cell_type": "code",
   "execution_count": null,
   "id": "64c3e79f",
   "metadata": {},
   "outputs": [],
   "source": [
    "# Pydantic >=2 causes compatibility issues with llama-index - that's why it's downgraded to 1.10.10\n",
    "%pip install llama-index llama-index-llms-openai langchain chardet lark sentence-transformers chromadb pydantic==1.10.10 --quiet"
   ]
  },
  {
   "cell_type": "code",
   "execution_count": 25,
   "id": "a71bc83d",
   "metadata": {},
   "outputs": [],
   "source": [
    "import sys\n",
    "import os\n",
    "import json\n",
    "from getpass import getpass\n",
    "import psutil\n",
    "import pprint\n",
    "from pprint import pprint as prettyprint\n",
    "import textwrap"
   ]
  },
  {
   "cell_type": "code",
   "execution_count": 2,
   "id": "89d73d89",
   "metadata": {},
   "outputs": [
    {
     "name": "stdin",
     "output_type": "stream",
     "text": [
      "Secrets (JSON string):  ········\n"
     ]
    }
   ],
   "source": [
    "IN_NOTEBOOK = any([\"jupyter-notebook\" in i for i in psutil.Process().parent().cmdline()])\n",
    "if IN_NOTEBOOK:\n",
    "  CREDS = json.loads(getpass(\"Secrets (JSON string): \"))\n",
    "  os.environ['CREDS'] = json.dumps(CREDS)\n",
    "  CREDS = json.loads(os.getenv('CREDS'))"
   ]
  },
  {
   "cell_type": "code",
   "execution_count": 3,
   "id": "703a5e1d",
   "metadata": {},
   "outputs": [],
   "source": [
    "os.environ[\"OPENAI_API_KEY\"] = CREDS['OpenAI']['v2']['credential'] "
   ]
  },
  {
   "cell_type": "markdown",
   "id": "296bf1a9",
   "metadata": {
    "id": "296bf1a9"
   },
   "source": [
    "## Download Data"
   ]
  },
  {
   "cell_type": "code",
   "execution_count": null,
   "id": "92922d27",
   "metadata": {},
   "outputs": [],
   "source": [
    "!mkdir -p 'data/paul_graham/'\n",
    "!curl 'https://raw.githubusercontent.com/run-llama/llama_index/main/docs/examples/data/paul_graham/paul_graham_essay.txt' --output 'data/paul_graham/paul_graham_essay.txt'"
   ]
  },
  {
   "cell_type": "markdown",
   "id": "5c9fea66-9bd4-475a-bf16-dc6e208a00e0",
   "metadata": {},
   "source": [
    "# 1. Hello World"
   ]
  },
  {
   "cell_type": "code",
   "execution_count": null,
   "id": "91f94cb2-5ce8-439d-9a7a-08831b73d099",
   "metadata": {},
   "outputs": [],
   "source": [
    "import chromadb\n",
    "from chromadb.utils import embedding_functions\n",
    "from sentence_transformers import SentenceTransformer\n",
    "\n",
    "CHROMA_DATA_PATH = \"chroma_data/\"\n",
    "EMBED_MODEL = \"all-MiniLM-L6-v2\"\n",
    "COLLECTION_NAME = \"demo_docs\"\n",
    "\n",
    "client = chromadb.PersistentClient(path=CHROMA_DATA_PATH)"
   ]
  },
  {
   "cell_type": "code",
   "execution_count": null,
   "id": "2c7f6898-0e07-4505-a602-731966d8ac59",
   "metadata": {},
   "outputs": [],
   "source": [
    "embedding_func = embedding_functions.SentenceTransformerEmbeddingFunction(\n",
    "    model_name=EMBED_MODEL\n",
    ")\n",
    "\n",
    "collection = client.create_collection(\n",
    "    name=COLLECTION_NAME,\n",
    "    embedding_function=embedding_func,\n",
    "    metadata={\"hnsw:space\": \"cosine\"},\n",
    ")"
   ]
  },
  {
   "cell_type": "code",
   "execution_count": null,
   "id": "1cb1f0eb-437b-4ab2-995f-1e750f79ee04",
   "metadata": {},
   "outputs": [],
   "source": [
    "documents = [\n",
    "\t\"The latest iPhone model comes with impressive features and a powerful camera.\",\n",
    "\t\"Exploring the beautiful beaches and vibrant culture of Bali is a dream for many travelers.\",\n",
    "\t\"Einstein's theory of relativity revolutionized our understanding of space and time.\",\n",
    "\t\"Traditional Italian pizza is famous for its thin crust, fresh ingredients, and wood-fired ovens.\",\n",
    "\t\"The American Revolution had a profound impact on the birth of the United States as a nation.\",\n",
    "\t\"Regular exercise and a balanced diet are essential for maintaining good physical health.\",\n",
    "\t\"Leonardo da Vinci's Mona Lisa is considered one of the most iconic paintings in art history.\",\n",
    "\t\"Climate change poses a significant threat to the planet's ecosystems and biodiversity.\",\n",
    "\t\"Startup companies often face challenges in securing funding and scaling their operations.\",\n",
    "\t\"Beethoven's Symphony No. 9 is celebrated for its powerful choral finale, 'Ode to Joy.'\",\n",
    "]\n",
    "\n",
    "genres = [\n",
    "\t\"technology\",\n",
    "\t\"travel\",\n",
    "\t\"science\",\n",
    "\t\"food\",\n",
    "\t\"history\",\n",
    "\t\"fitness\",\n",
    "\t\"art\",\n",
    "\t\"climate change\",\n",
    "\t\"business\",\n",
    "\t\"music\",\n",
    "]\n",
    "\n",
    "collection.add(\n",
    "\tdocuments=documents,\n",
    "\tids=[f\"id{i}\" for i in range(len(documents))],\n",
    "\tmetadatas=[{\"genre\": g} for g in genres]\n",
    ")"
   ]
  },
  {
   "cell_type": "code",
   "execution_count": null,
   "id": "09c1cb42-d226-430a-8ee1-08e917c7a12a",
   "metadata": {},
   "outputs": [],
   "source": [
    "query_results = collection.query(\n",
    "\tquery_texts=[\"Find me some delicious food!\"],\n",
    "\tn_results=1,\n",
    ")\n",
    "\n",
    "query_results.keys()"
   ]
  },
  {
   "cell_type": "code",
   "execution_count": null,
   "id": "c1e3c366-1739-494c-ac4c-6e173dd0e5c7",
   "metadata": {},
   "outputs": [],
   "source": [
    "print(query_results[\"documents\"])\n",
    "print(query_results[\"ids\"])\n",
    "print(query_results[\"distances\"])\n",
    "print(query_results[\"metadatas\"])"
   ]
  },
  {
   "cell_type": "code",
   "execution_count": null,
   "id": "f2442a7e-fa1f-4099-ad56-82da93231714",
   "metadata": {},
   "outputs": [],
   "source": []
  },
  {
   "cell_type": "markdown",
   "id": "9e382a01-f2f8-46df-b787-8f55137a4040",
   "metadata": {},
   "source": [
    "# 2. Langchain and Chroma DB"
   ]
  },
  {
   "cell_type": "code",
   "execution_count": 4,
   "id": "d007a609-da8f-4e05-ab1d-fbaee7c1160d",
   "metadata": {},
   "outputs": [
    {
     "name": "stderr",
     "output_type": "stream",
     "text": [
      "100%|█████████████████████████████████████████| 104/104 [00:13<00:00,  7.91it/s]\n"
     ]
    }
   ],
   "source": [
    "from langchain.document_loaders import TextLoader, DirectoryLoader\n",
    "\n",
    "text_loader_kwargs={'autodetect_encoding': True}\n",
    "loader = DirectoryLoader('./data/hotels/london', show_progress=True, \n",
    "    loader_cls=TextLoader, loader_kwargs=text_loader_kwargs)\n",
    "docs = loader.load()"
   ]
  },
  {
   "cell_type": "code",
   "execution_count": 5,
   "id": "cc38f095-3b63-4603-bd99-9a739dea9e2a",
   "metadata": {},
   "outputs": [
    {
     "data": {
      "text/plain": [
       "7324"
      ]
     },
     "execution_count": 5,
     "metadata": {},
     "output_type": "execute_result"
    }
   ],
   "source": [
    "from langchain.text_splitter import CharacterTextSplitter\n",
    "\n",
    "text_splitter = CharacterTextSplitter(\n",
    "    separator = \"\\n\",\n",
    "    chunk_size = 1,\n",
    "    chunk_overlap  = 0,\n",
    "    length_function = lambda x: 1, # hack - usually len is used \n",
    "    is_separator_regex = False\n",
    ")\n",
    "split_docs = text_splitter.split_documents(docs)\n",
    "len(split_docs) "
   ]
  },
  {
   "cell_type": "code",
   "execution_count": 6,
   "id": "53e8a6c9-5277-4b95-b1bc-eb1b1a7fea35",
   "metadata": {},
   "outputs": [
    {
     "name": "stderr",
     "output_type": "stream",
     "text": [
      "/Library/Frameworks/Python.framework/Versions/3.11/lib/python3.11/site-packages/langchain_core/_api/deprecation.py:117: LangChainDeprecationWarning: The class `langchain_community.embeddings.openai.OpenAIEmbeddings` was deprecated in langchain-community 0.0.9 and will be removed in 0.2.0. An updated version of the class exists in the langchain-openai package and should be used instead. To use it run `pip install -U langchain-openai` and import as `from langchain_openai import OpenAIEmbeddings`.\n",
      "  warn_deprecated(\n"
     ]
    }
   ],
   "source": [
    "from langchain.vectorstores import Chroma\n",
    "from langchain.embeddings.openai import OpenAIEmbeddings\n",
    "\n",
    "persist_directory = 'vector_store'\n",
    "embedding = OpenAIEmbeddings()"
   ]
  },
  {
   "cell_type": "code",
   "execution_count": 7,
   "id": "861db10b-37ba-40fd-93ab-70f4f38e495f",
   "metadata": {},
   "outputs": [],
   "source": [
    "# First init db\n",
    "vectordb = Chroma.from_documents(\n",
    "    documents=split_docs,\n",
    "    embedding=embedding,\n",
    "    persist_directory=persist_directory\n",
    ")"
   ]
  },
  {
   "cell_type": "code",
   "execution_count": null,
   "id": "7cc24574-b95f-4f10-9baa-1203a487f3a8",
   "metadata": {},
   "outputs": [],
   "source": [
    "# Load persisted db\n",
    "vectordb = Chroma(\n",
    "    persist_directory=persist_directory,\n",
    "    embedding_function=embedding\n",
    ")"
   ]
  },
  {
   "cell_type": "code",
   "execution_count": 8,
   "id": "182c93e8-cfc8-410a-be09-9ff6324edbf9",
   "metadata": {},
   "outputs": [
    {
     "name": "stdout",
     "output_type": "stream",
     "text": [
      "7324\n"
     ]
    }
   ],
   "source": [
    "print(vectordb._collection.count())"
   ]
  },
  {
   "cell_type": "code",
   "execution_count": 49,
   "id": "709c4c5e-dafd-4288-89cd-070db7cfdd94",
   "metadata": {},
   "outputs": [],
   "source": [
    "def myPrettyPrinter(obj):\n",
    "    #print(json.dumps(obj, indent=2))\n",
    "    #prettyprint(obj)\n",
    "    myText = pprint.pformat(obj)\n",
    "    myText = myText.encode('ascii', 'ignore').decode('unicode_escape') # unescape \n",
    "    for x in myText.split('\\n'):\n",
    "      print(textwrap.fill(x, width=80, initial_indent='', subsequent_indent='          '))\n",
    "      print()"
   ]
  },
  {
   "cell_type": "code",
   "execution_count": 50,
   "id": "45e54eb5-45da-46ba-a29b-2e19d8f8ae8d",
   "metadata": {},
   "outputs": [
    {
     "name": "stdout",
     "output_type": "stream",
     "text": [
      "[Document(page_content=\"Jun 21 2004     Very Rude Staff My husband and I stayed\n",
      "          here during our second visit to London. The location and the area\n",
      "          surrounding the hotel were not bad. I don't mind hotels as long as the\n",
      "          room is clean, the linens fresh and the staff friendly. Unfortunately,\n",
      "          the biggest complaint we had was with the staff. They are very\n",
      "          unfriendly and not helpful at all. Stay away from the breakfast staff\n",
      "          especially! They are extremely rude and the breakfast was HORRIBLE.\n",
      "          The man in charge was extremely nasty!!\", metadata={'source':\n",
      "          'data/hotels/london/uk_england_london_bayswater_inn'}),\n",
      "\n",
      " Document(page_content=\"Jul 14 2007     Please stay away!       We would like\n",
      "          your future customers to be aware of this terrible hotel and stay\n",
      "          away. During our stay they never greeted us, only gave a suspicious\n",
      "          look. When we asked their help to unlock the dodgy room door, he\n",
      "          stormed in and out as if we should have known a little trick to open\n",
      "          the door! The bed mattress was so springy that we had to lay the top\n",
      "          cover of the other bed but still squeaks kept us awake. Breakfast was\n",
      "          poor with not much choice and a notice on the wall warning you not to\n",
      "          stay at a table more than 20 minutes! It costs nothing to be polite\n",
      "          and friendly, after all, we are the customers and they should provide\n",
      "          the acceptable level of services. There wasn't any saving graces and\n",
      "          we would not stay here ever again.\", metadata={'source':\n",
      "          'data/hotels/london/uk_england_london_apollo_hotel_bayswater'}),\n",
      "\n",
      " Document(page_content=\"Dec 7 2008      Stunningly unfriendly staff     I stayed\n",
      "          here as part of an overnight &quot;awayday&quot; with work colleagues.\n",
      "          The hotel is a pleasant enough place, the facilities are all good and\n",
      "          it is set in lovely grounds. The restaurant is situated in a massive\n",
      "          convervatory and was a really nice place to have our evening meal.The\n",
      "          food was perfectly acceptable, the conference facilites were fine and\n",
      "          my bedroom though average, was of a perfectly good standard. Service\n",
      "          was what you would expect but with a big, big catch. Why, why, why are\n",
      "          the staff in this place so miserable and unfriendly? Is it a\n",
      "          management issue I wonder? I stay in quite a few hotels and from the\n",
      "          biggest chains to the smallest guest house pretty well all staff will\n",
      "          acknowledge you with a greeting. I like this and to me it is part of\n",
      "          the deal when you part with chunks of cash for an over-night stay. But\n",
      "          at the Bromley Court the best I can say is that the staff did their\n",
      "          job and that was it - no more. No smiles, no cheery words,\n",
      "          nothing.This one thing means that I won't be going there again and\n",
      "          neither will my company.\", metadata={'source':\n",
      "          'data/hotels/london/uk_england_london_best_western_bromley_court'})]\n",
      "\n"
     ]
    }
   ],
   "source": [
    "query_docs = vectordb.similarity_search('politeness of staff', k=3)\n",
    "myPrettyPrinter(query_docs)"
   ]
  },
  {
   "cell_type": "code",
   "execution_count": 12,
   "id": "9dc6af30-a972-46a1-935d-8f8d354906cd",
   "metadata": {},
   "outputs": [
    {
     "name": "stdout",
     "output_type": "stream",
     "text": [
      "\u001b[32;1m\u001b[1;3m[chain/start]\u001b[0m \u001b[1m[1:retriever:Retriever > 2:chain:query_constructor] Entering Chain run with input:\n",
      "\u001b[0m{\n",
      "  \"query\": \"breakfast in Travelodge Farringdon\"\n",
      "}\n",
      "\u001b[32;1m\u001b[1;3m[chain/start]\u001b[0m \u001b[1m[1:retriever:Retriever > 2:chain:query_constructor > 3:prompt:FewShotPromptTemplate] Entering Prompt run with input:\n",
      "\u001b[0m{\n",
      "  \"query\": \"breakfast in Travelodge Farringdon\"\n",
      "}\n",
      "\u001b[36;1m\u001b[1;3m[chain/end]\u001b[0m \u001b[1m[1:retriever:Retriever > 2:chain:query_constructor > 3:prompt:FewShotPromptTemplate] [0ms] Exiting Prompt run with output:\n",
      "\u001b[0m[outputs]\n",
      "\u001b[32;1m\u001b[1;3m[llm/start]\u001b[0m \u001b[1m[1:retriever:Retriever > 2:chain:query_constructor > 4:llm:OpenAI] Entering LLM run with input:\n",
      "\u001b[0m{\n",
      "  \"prompts\": [\n",
      "    \"Your goal is to structure the user's query to match the request schema provided below.\\n\\n<< Structured Request Schema >>\\nWhen responding use a markdown code snippet with a JSON object formatted in the following schema:\\n\\n```json\\n{\\n    \\\"query\\\": string \\\\ text string to compare to document contents\\n    \\\"filter\\\": string \\\\ logical condition statement for filtering documents\\n}\\n```\\n\\nThe query string should contain only text that is expected to match the contents of documents. Any conditions in the filter should not be mentioned in the query as well.\\n\\nA logical condition statement is composed of one or more comparison and logical operation statements.\\n\\nA comparison statement takes the form: `comp(attr, val)`:\\n- `comp` (eq | ne | gt | gte | lt | lte): comparator\\n- `attr` (string):  name of attribute to apply the comparison to\\n- `val` (string): is the comparison value\\n\\nA logical operation statement takes the form `op(statement1, statement2, ...)`:\\n- `op` (and | or): logical operator\\n- `statement1`, `statement2`, ... (comparison statements or logical operation statements): one or more statements to apply the operation to\\n\\nMake sure that you only use the comparators and logical operators listed above and no others.\\nMake sure that filters only refer to attributes that exist in the data source.\\nMake sure that filters only use the attributed names with its function names if there are functions applied on them.\\nMake sure that filters only use format `YYYY-MM-DD` when handling date data typed values.\\nMake sure that filters take into account the descriptions of attributes and only make comparisons that are feasible given the type of data being stored.\\nMake sure that filters are only used as needed. If there are no filters that should be applied return \\\"NO_FILTER\\\" for the filter value.\\n\\n<< Example 1. >>\\nData Source:\\n```json\\n{\\n    \\\"content\\\": \\\"Lyrics of a song\\\",\\n    \\\"attributes\\\": {\\n        \\\"artist\\\": {\\n            \\\"type\\\": \\\"string\\\",\\n            \\\"description\\\": \\\"Name of the song artist\\\"\\n        },\\n        \\\"length\\\": {\\n            \\\"type\\\": \\\"integer\\\",\\n            \\\"description\\\": \\\"Length of the song in seconds\\\"\\n        },\\n        \\\"genre\\\": {\\n            \\\"type\\\": \\\"string\\\",\\n            \\\"description\\\": \\\"The song genre, one of \\\"pop\\\", \\\"rock\\\" or \\\"rap\\\"\\\"\\n        }\\n    }\\n}\\n```\\n\\nUser Query:\\nWhat are songs by Taylor Swift or Katy Perry about teenage romance under 3 minutes long in the dance pop genre\\n\\nStructured Request:\\n```json\\n{\\n    \\\"query\\\": \\\"teenager love\\\",\\n    \\\"filter\\\": \\\"and(or(eq(\\\\\\\"artist\\\\\\\", \\\\\\\"Taylor Swift\\\\\\\"), eq(\\\\\\\"artist\\\\\\\", \\\\\\\"Katy Perry\\\\\\\")), lt(\\\\\\\"length\\\\\\\", 180), eq(\\\\\\\"genre\\\\\\\", \\\\\\\"pop\\\\\\\"))\\\"\\n}\\n```\\n\\n\\n<< Example 2. >>\\nData Source:\\n```json\\n{\\n    \\\"content\\\": \\\"Lyrics of a song\\\",\\n    \\\"attributes\\\": {\\n        \\\"artist\\\": {\\n            \\\"type\\\": \\\"string\\\",\\n            \\\"description\\\": \\\"Name of the song artist\\\"\\n        },\\n        \\\"length\\\": {\\n            \\\"type\\\": \\\"integer\\\",\\n            \\\"description\\\": \\\"Length of the song in seconds\\\"\\n        },\\n        \\\"genre\\\": {\\n            \\\"type\\\": \\\"string\\\",\\n            \\\"description\\\": \\\"The song genre, one of \\\"pop\\\", \\\"rock\\\" or \\\"rap\\\"\\\"\\n        }\\n    }\\n}\\n```\\n\\nUser Query:\\nWhat are songs that were not published on Spotify\\n\\nStructured Request:\\n```json\\n{\\n    \\\"query\\\": \\\"\\\",\\n    \\\"filter\\\": \\\"NO_FILTER\\\"\\n}\\n```\\n\\n\\n<< Example 3. >>\\nData Source:\\n```json\\n{\\n    \\\"content\\\": \\\"Customer reviews for hotels\\\",\\n    \\\"attributes\\\": {\\n    \\\"source\\\": {\\n        \\\"description\\\": \\\"All sources starts with 'data/hotels/london/uk_england_london_'           then goes hotel chain, constant 'london_' and location.\\\",\\n        \\\"type\\\": \\\"string\\\"\\n    }\\n}\\n}\\n```\\n\\nUser Query:\\nbreakfast in Travelodge Farringdon\\n\\nStructured Request:\"\n",
      "  ]\n",
      "}\n",
      "\u001b[36;1m\u001b[1;3m[llm/end]\u001b[0m \u001b[1m[1:retriever:Retriever > 2:chain:query_constructor > 4:llm:OpenAI] [1.60s] Exiting LLM run with output:\n",
      "\u001b[0m{\n",
      "  \"generations\": [\n",
      "    [\n",
      "      {\n",
      "        \"text\": \"```json\\n{\\n    \\\"query\\\": \\\"breakfast\\\",\\n    \\\"filter\\\": \\\"eq(\\\\\\\"source\\\\\\\", \\\\\\\"data/hotels/london/uk_england_london_travelodge_london_farringdon\\\\\\\")\\\"\\n}\\n```\",\n",
      "        \"generation_info\": {\n",
      "          \"finish_reason\": \"stop\",\n",
      "          \"logprobs\": null\n",
      "        },\n",
      "        \"type\": \"Generation\"\n",
      "      }\n",
      "    ]\n",
      "  ],\n",
      "  \"llm_output\": {\n",
      "    \"token_usage\": {\n",
      "      \"total_tokens\": 881,\n",
      "      \"completion_tokens\": 45,\n",
      "      \"prompt_tokens\": 836\n",
      "    },\n",
      "    \"model_name\": \"gpt-3.5-turbo-instruct\"\n",
      "  },\n",
      "  \"run\": null\n",
      "}\n",
      "\u001b[32;1m\u001b[1;3m[chain/start]\u001b[0m \u001b[1m[1:retriever:Retriever > 2:chain:query_constructor > 5:parser:StructuredQueryOutputParser] Entering Parser run with input:\n",
      "\u001b[0m{\n",
      "  \"input\": \"```json\\n{\\n    \\\"query\\\": \\\"breakfast\\\",\\n    \\\"filter\\\": \\\"eq(\\\\\\\"source\\\\\\\", \\\\\\\"data/hotels/london/uk_england_london_travelodge_london_farringdon\\\\\\\")\\\"\\n}\\n```\"\n",
      "}\n",
      "\u001b[36;1m\u001b[1;3m[chain/end]\u001b[0m \u001b[1m[1:retriever:Retriever > 2:chain:query_constructor > 5:parser:StructuredQueryOutputParser] [3ms] Exiting Parser run with output:\n",
      "\u001b[0m[outputs]\n",
      "\u001b[36;1m\u001b[1;3m[chain/end]\u001b[0m \u001b[1m[1:retriever:Retriever > 2:chain:query_constructor] [1.61s] Exiting Chain run with output:\n",
      "\u001b[0m[outputs]\n"
     ]
    }
   ],
   "source": [
    "import langchain \n",
    "from langchain.llms import OpenAI\n",
    "from langchain.retrievers.self_query.base import SelfQueryRetriever\n",
    "from langchain.chains.query_constructor.base import AttributeInfo\n",
    "\n",
    "langchain.debug = True\n",
    "\n",
    "metadata_field_info = [\n",
    "    AttributeInfo(\n",
    "        name=\"source\",\n",
    "        description=\"All sources starts with 'data/hotels/london/uk_england_london_' \\\n",
    "          then goes hotel chain, constant 'london_' and location.\",\n",
    "        type=\"string\",\n",
    "    )\n",
    "]\n",
    "\n",
    "document_content_description = \"Customer reviews for hotels\"\n",
    "llm = OpenAI(temperature=0.1) # low temperature to make model more factual\n",
    "# by default 'text-davinci-003' is used\n",
    "\n",
    "retriever = SelfQueryRetriever.from_llm(\n",
    "    llm,\n",
    "    vectordb,\n",
    "    document_content_description,\n",
    "    metadata_field_info,\n",
    "    verbose=True\n",
    ")\n",
    "\n",
    "question = \"breakfast in Travelodge Farringdon\"\n",
    "mydocs = retriever.get_relevant_documents(question, k = 5)"
   ]
  },
  {
   "cell_type": "code",
   "execution_count": 51,
   "id": "4e34221c-90ad-4369-9126-ef07c87176e0",
   "metadata": {},
   "outputs": [
    {
     "name": "stdout",
     "output_type": "stream",
     "text": [
      "[Document(page_content=\"Jul 6 2007      Loved it even though it was small\n",
      "          My favorite thing about this hotel was the breakfast, oh my-- soooo\n",
      "          good. Bacon, bacon, bacon. I still think about the hot breakfast\n",
      "          buffet, two years after I stayed here. The staff was very nice, the\n",
      "          room was clean. I wasn't thrilled about the location, but it was my\n",
      "          first visit to London, so I'm sure that added to the issues with\n",
      "          getting around. I had reserved a double, but I got there too early so\n",
      "          I just took the single they were offering. It was super small, but\n",
      "          clean and the bathroom looked new. I reccommend this place.\",\n",
      "          metadata={'source':\n",
      "          'data/hotels/london/uk_england_london_travelodge_london_farringdon'}),\n",
      "\n",
      " Document(page_content='Feb 19 2005     four nights at the Travelodge   We\n",
      "          arrived at 8 a.m. and when we checked in at the front desk we were\n",
      "          told they do not store your luggage. So we waited around two hours\n",
      "          until a room was available, before we could go sightseeing. The room\n",
      "          was larger than we expected, but due to traffic noise throughout the\n",
      "          night we got very little sleep the whole time we were there. The free\n",
      "          breakfast was fine, and the staff at the front desk was pleasant.',\n",
      "          metadata={'source':\n",
      "          'data/hotels/london/uk_england_london_travelodge_london_farringdon'}),\n",
      "\n",
      " Document(page_content='Apr 24 2007     Business trip overnight stay    For an\n",
      "          overnight business trip in a travel lodge, my expectations were not\n",
      "          high. I was not disappointed. The room was standard, good size, clean\n",
      "          and well laid out, though a little tired and in need of refurbishment.\n",
      "          The noise from the traffic kept me awake and as there was no a/c one\n",
      "          has to try and sleep with the window ajar.The reception and the public\n",
      "          rooms where all clean but soulless. Getting a drink at the bar was\n",
      "          slow and breakfast was spread over two rooms. The atmosphere was more\n",
      "          caf than restaurant.', metadata={'source':\n",
      "          'data/hotels/london/uk_england_london_travelodge_london_farringdon'}),\n",
      "\n",
      " Document(page_content='Nov 11 2007     Worst budget hotel ever stayed in!\n",
      "          I stayed in the Travelodge for one night. I found the hotel to be a\n",
      "          very long walk from Kings Cross station. I found the directions on the\n",
      "          website slightly misleading as it seems closer to the stations than in\n",
      "          reality.The room was small but I expected that for a Travelodge. I had\n",
      "          a single bed, which was very uncomfortable to sleep in, the springs\n",
      "          were too springy and every time you rolled over it felt like being at\n",
      "          sea during a heavy storm!I also found the pillows to be very\n",
      "          uncomfortable. If you pay for breakfast you are given a very tacky\n",
      "          looking breakfast voucher most likely photocopied as mine was.Irons\n",
      "          were available from the main reception. The iron I had was damaged,\n",
      "          there were electrical wires coming through the flex of the iron. I\n",
      "          admit I never questioned this however I have great reservations why\n",
      "          the iron is still in service. There were no signs for where to go for\n",
      "          breakfast (information not given when booked in either) and once I\n",
      "          found were breakfast was being served there was a sign asking to wait\n",
      "          to be seated. After several minutes I asked the only member of staff\n",
      "          on duty if I could sit, I was told it wasnt necessary to wait there\n",
      "          and sit anywhere.The restaurant was very poorly lit. The layout of the\n",
      "          breakfast was very bad indeed, the breakfast cereals, fruit, butter,\n",
      "          marmalade and fresh drinks were situated in the main bar area, the hot\n",
      "          food and toast was in the restaurant and then the teas, coffee and\n",
      "          sugar were situated round the corner. I found this very disorganised,\n",
      "          as there were no signs to where anything was located.',\n",
      "          metadata={'source':\n",
      "          'data/hotels/london/uk_england_london_travelodge_london_farringdon'})]\n",
      "\n"
     ]
    }
   ],
   "source": [
    "myPrettyPrinter(mydocs)"
   ]
  },
  {
   "cell_type": "code",
   "execution_count": null,
   "id": "a4d5021b-0c7a-4df2-8748-89795c857ef3",
   "metadata": {},
   "outputs": [],
   "source": []
  }
 ],
 "metadata": {
  "colab": {
   "provenance": []
  },
  "kernelspec": {
   "display_name": "Python 3 (ipykernel)",
   "language": "python",
   "name": "python3"
  },
  "language_info": {
   "codemirror_mode": {
    "name": "ipython",
    "version": 3
   },
   "file_extension": ".py",
   "mimetype": "text/x-python",
   "name": "python",
   "nbconvert_exporter": "python",
   "pygments_lexer": "ipython3",
   "version": "3.11.3"
  }
 },
 "nbformat": 4,
 "nbformat_minor": 5
}
