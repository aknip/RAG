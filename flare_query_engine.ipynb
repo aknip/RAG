{
 "cells": [
  {
   "cell_type": "markdown",
   "id": "f866cc0a-460e-4dbf-91b7-f541a4c0eda6",
   "metadata": {
    "id": "f866cc0a-460e-4dbf-91b7-f541a4c0eda6"
   },
   "source": [
    "# FLARE Query Engine\n",
    "\n",
    "Source: https://docs.llamaindex.ai/en/stable/examples/query_engine/flare_query_engine.html\n",
    "\n",
    "Adapted from the paper \"Active Retrieval Augmented Generation\"\n",
    "\n",
    "Currently implements FLARE Instruct, which tells the LLM to generate retrieval instructions."
   ]
  },
  {
   "cell_type": "markdown",
   "id": "8e8d789e",
   "metadata": {},
   "source": [
    "# Setup"
   ]
  },
  {
   "cell_type": "markdown",
   "id": "b59dcd24-1a35-4d6f-90ac-2eadfb9336bb",
   "metadata": {},
   "source": [
    "# Run from an virtualenv!\n",
    "```\n",
    "python3 -m virtualenv myenv \n",
    "source myenv/bin/activate \n",
    "# pip install notebook\n",
    "jupyter notebook\n",
    "```"
   ]
  },
  {
   "cell_type": "code",
   "execution_count": null,
   "id": "dac9d9b9",
   "metadata": {},
   "outputs": [],
   "source": [
    "# Only needed, if pip-installs of the next cells do not work correctly\n",
    "# !pip freeze | grep llama | xargs pip uninstall -y\n",
    "# !pip install -U llama-index llama-index-llms-azure-openai llama-index-embeddings-azure-openai --force-reinstall --no-cache-dir"
   ]
  },
  {
   "cell_type": "code",
   "execution_count": 1,
   "id": "64c3e79f",
   "metadata": {},
   "outputs": [
    {
     "name": "stdout",
     "output_type": "stream",
     "text": [
      "Note: you may need to restart the kernel to use updated packages.\n"
     ]
    }
   ],
   "source": [
    "# Pydantic >=2 causes compatibility issues with llama-index - that's why it's downgraded to 1.10.10\n",
    "%pip install llama-index llama-index-llms-openai pydantic==1.10.10 --quiet"
   ]
  },
  {
   "cell_type": "code",
   "execution_count": 3,
   "id": "a71bc83d",
   "metadata": {},
   "outputs": [],
   "source": [
    "import sys\n",
    "import os\n",
    "import json\n",
    "from getpass import getpass\n",
    "import psutil"
   ]
  },
  {
   "cell_type": "code",
   "execution_count": 4,
   "id": "89d73d89",
   "metadata": {},
   "outputs": [
    {
     "name": "stdin",
     "output_type": "stream",
     "text": [
      "Secrets (JSON string):  ········\n"
     ]
    }
   ],
   "source": [
    "IN_NOTEBOOK = any([\"jupyter-notebook\" in i for i in psutil.Process().parent().cmdline()])\n",
    "if IN_NOTEBOOK:\n",
    "  CREDS = json.loads(getpass(\"Secrets (JSON string): \"))\n",
    "  os.environ['CREDS'] = json.dumps(CREDS)\n",
    "  CREDS = json.loads(os.getenv('CREDS'))"
   ]
  },
  {
   "cell_type": "code",
   "execution_count": 5,
   "id": "703a5e1d",
   "metadata": {},
   "outputs": [],
   "source": [
    "os.environ[\"OPENAI_API_KEY\"] = CREDS['OpenAI']['v2']['credential'] "
   ]
  },
  {
   "cell_type": "markdown",
   "id": "296bf1a9",
   "metadata": {
    "id": "296bf1a9"
   },
   "source": [
    "## Download Data"
   ]
  },
  {
   "cell_type": "code",
   "execution_count": 6,
   "id": "92922d27",
   "metadata": {},
   "outputs": [
    {
     "name": "stdout",
     "output_type": "stream",
     "text": [
      "  % Total    % Received % Xferd  Average Speed   Time    Time     Time  Current\n",
      "                                 Dload  Upload   Total   Spent    Left  Speed\n",
      "100 75042  100 75042    0     0   224k      0 --:--:-- --:--:-- --:--:--  229k\n"
     ]
    }
   ],
   "source": [
    "!mkdir -p 'data/paul_graham/'\n",
    "!curl 'https://raw.githubusercontent.com/run-llama/llama_index/main/docs/examples/data/paul_graham/paul_graham_essay.txt' --output 'data/paul_graham/paul_graham_essay.txt'"
   ]
  },
  {
   "cell_type": "markdown",
   "id": "5c9fea66-9bd4-475a-bf16-dc6e208a00e0",
   "metadata": {},
   "source": [
    "# 1. Basic RAG"
   ]
  },
  {
   "cell_type": "code",
   "execution_count": 8,
   "id": "0c3aacb2-f930-4abb-8d39-4ab8e1d4acf3",
   "metadata": {},
   "outputs": [],
   "source": [
    "from llama_index.core import SimpleDirectoryReader, VectorStoreIndex\n",
    "\n",
    "# load data\n",
    "documents = SimpleDirectoryReader(input_dir=\"./data/paul_graham\").load_data()\n",
    "\n",
    "# build VectorStoreIndex that takes care of chunking documents and encoding chunks to embeddings for future retrieval\n",
    "index = VectorStoreIndex.from_documents(documents=documents)\n",
    "\n",
    "# The QueryEngine class is equipped with the generator and facilitates the retrieval and generation steps\n",
    "query_engine = index.as_query_engine()"
   ]
  },
  {
   "cell_type": "code",
   "execution_count": 9,
   "id": "2efae433-3160-42c6-9c5c-cbd12e44e099",
   "metadata": {},
   "outputs": [],
   "source": [
    "# Use your Default RAG\n",
    "response = query_engine.query(\"Can you tell me about the author's trajectory in the startup world?\")\n",
    "print(response)"
   ]
  },
  {
   "cell_type": "code",
   "execution_count": 22,
   "id": "e7d8a86a-fe64-464c-9459-753749937d15",
   "metadata": {},
   "outputs": [
    {
     "name": "stdout",
     "output_type": "stream",
     "text": [
      "Building shops for users in the provided documents was initially seen as a somewhat humiliating task, as the software was designed for users to create their own stores. However, this approach of building stores for users inadvertently provided valuable insights into the retail industry and the user experience of the software. Despite feeling initially mystified and repelled by the business aspect, the experience of directly assisting users in setting up their stores led to a deeper understanding of retail needs and user preferences. This hands-on approach not only helped in acquiring users but also shaped the direction of the software development based on real-world user interactions and feedback.\n"
     ]
    }
   ],
   "source": [
    "response = query_engine.query(\"Give me information about the experience of building shops for users in the provided documents.\")\n",
    "print(response)"
   ]
  },
  {
   "cell_type": "code",
   "execution_count": 21,
   "id": "cd13d921-f735-414a-8ea7-8b28f09d0c31",
   "metadata": {},
   "outputs": [
    {
     "name": "stdout",
     "output_type": "stream",
     "text": [
      "Lisp was interesting for its own sake and not just for its association with AI. The author decided to focus on Lisp and wrote a book about Lisp hacking called \"On Lisp.\" The book wasn't published until 1993, but much of it was written during the author's time in grad school. The author was genuinely in love with Lisp hacking and worked on it while also being in a PhD program in computer science. Lisp is mentioned in the context as a language the author found interesting and engaging beyond its AI association.\n"
     ]
    }
   ],
   "source": [
    "response = query_engine.query(\"List all informations about Lisp which you can find in the provided documents.\")\n",
    "print(response)"
   ]
  },
  {
   "cell_type": "markdown",
   "id": "85be401c-c352-458f-a231-5ee14bd83728",
   "metadata": {},
   "source": [
    "# 3. FLARE RAG"
   ]
  },
  {
   "cell_type": "code",
   "execution_count": 5,
   "id": "507256f4-7831-4ad3-8bdd-c19ad6623d6d",
   "metadata": {
    "id": "507256f4-7831-4ad3-8bdd-c19ad6623d6d"
   },
   "outputs": [],
   "source": [
    "from llama_index.llms.openai import OpenAI\n",
    "from llama_index.core import Settings\n",
    "\n",
    "Settings.llm = OpenAI(model=\"gpt-4\", temperature=0)\n",
    "Settings.chunk_size = 512"
   ]
  },
  {
   "cell_type": "code",
   "execution_count": 7,
   "id": "5dac4df9-a42f-4cc5-a708-542e3c33f3d2",
   "metadata": {
    "id": "5dac4df9-a42f-4cc5-a708-542e3c33f3d2"
   },
   "outputs": [],
   "source": [
    "# Load data\n",
    "from llama_index.core import SimpleDirectoryReader, VectorStoreIndex\n",
    "\n",
    "documents = SimpleDirectoryReader(\"./data/paul_graham\").load_data()\n",
    "index = VectorStoreIndex.from_documents(\n",
    "    documents,\n",
    ")"
   ]
  },
  {
   "cell_type": "code",
   "execution_count": 8,
   "id": "8a749d71-2ad5-4ee3-aa1e-48e9567b706d",
   "metadata": {
    "id": "8a749d71-2ad5-4ee3-aa1e-48e9567b706d"
   },
   "outputs": [],
   "source": [
    "index_query_engine = index.as_query_engine(similarity_top_k=2)"
   ]
  },
  {
   "cell_type": "code",
   "execution_count": 9,
   "id": "91fcdbcd-f0f6-4580-9016-d89394e05aab",
   "metadata": {
    "id": "91fcdbcd-f0f6-4580-9016-d89394e05aab"
   },
   "outputs": [],
   "source": [
    "from llama_index.core.query_engine import FLAREInstructQueryEngine\n",
    "\n",
    "flare_query_engine = FLAREInstructQueryEngine(\n",
    "    query_engine=index_query_engine,\n",
    "    max_iterations=7,\n",
    "    verbose=True,\n",
    ")"
   ]
  },
  {
   "cell_type": "code",
   "execution_count": 10,
   "id": "e1ca238e-884b-4221-b3a8-0bb106fa0de9",
   "metadata": {
    "id": "e1ca238e-884b-4221-b3a8-0bb106fa0de9",
    "outputId": "4aea7261-32c1-43ae-b89a-82dca5ca4549"
   },
   "outputs": [
    {
     "name": "stdout",
     "output_type": "stream",
     "text": [
      "\u001b[1;3;32mQuery: Can you tell me about the author's trajectory in the startup world?\n",
      "\u001b[0m\u001b[1;3;34mCurrent response: \n",
      "\u001b[0m\u001b[1;3;38;5;200mLookahead response: The author first entered the startup world in [Search(When did the author first enter the startup world?)], and since then, they have [Search(What has the author achieved in the startup world?)].\n",
      "\u001b[0m\u001b[1;3;38;5;200mUpdated lookahead response: The author first entered the startup world in a time not specified, and since then, they have \n",
      "\u001b[0m\u001b[1;3;34mCurrent response:  The author first entered the startup world in a time not specified, and since then, they have\n",
      "\u001b[0m\u001b[1;3;38;5;200mLookahead response: been involved in several successful ventures, including [Search(What successful startups has the author been involved in?)]\n",
      "\u001b[0m\u001b[1;3;38;5;200mUpdated lookahead response: been involved in several successful ventures, including ventures that the context does not provide specific information about.\n",
      "\u001b[0m\u001b[1;3;34mCurrent response: The author first entered the startup world in a time not specified, and since then, they have been involved in several successful ventures, including ventures that the context does not provide specific information about.\n",
      "\u001b[0m\u001b[1;3;38;5;200mLookahead response: Their most notable achievement was [Search(What is the author's most notable achievement in the startup world?)]\n",
      "\u001b[0m\u001b[1;3;38;5;200mUpdated lookahead response: Their most notable achievement was starting his own investment firm with Jessica, Robert, and Trevor. This firm was designed to implement the ideas they had been discussing about improving venture capital, such as making a larger number of smaller investments and funding younger, more technical founders.\n",
      "\u001b[0m\u001b[1;3;34mCurrent response: The author first entered the startup world in a time not specified, and since then, they have been involved in several successful ventures, including ventures that the context does not provide specific information about. Their most notable achievement was starting his own investment firm with Jessica, Robert, and Trevor. This firm was designed to implement the ideas they had been discussing about improving venture capital, such as making a larger number of smaller investments and funding younger, more technical founders.\n",
      "\u001b[0m\u001b[1;3;38;5;200mLookahead response: The success of their investment firm led to the author being recognized as a key player in the startup world, with [Search(What are some of the author's achievements in the startup world?)]\n",
      "\u001b[0m\u001b[1;3;38;5;200mUpdated lookahead response: The success of their investment firm led to the author being recognized as a key player in the startup world, with achievements such as giving a talk to the Harvard Computer Society on how to start a startup, realizing the potential of angel investing, and co-founding the innovative investment firm, Y Combinator.\n",
      "\u001b[0m\u001b[1;3;34mCurrent response: The author first entered the startup world in a time not specified, and since then, they have been involved in several successful ventures, including ventures that the context does not provide specific information about. Their most notable achievement was starting his own investment firm with Jessica, Robert, and Trevor. This firm was designed to implement the ideas they had been discussing about improving venture capital, such as making a larger number of smaller investments and funding younger, more technical founders. The success of their investment firm led to the author being recognized as a key player in the startup world, with achievements such as giving a talk to the Harvard Computer Society on how to start a startup, realizing the potential of angel investing, and co-founding the innovative investment firm, Y Combinator.\n",
      "\u001b[0m\u001b[1;3;38;5;200mLookahead response: In Y Combinator, the author played a significant role in [Search(What role did the author play in Y Combinator?)] and contributed to its success.\n",
      "\u001b[0m\u001b[1;3;38;5;200mUpdated lookahead response: In Y Combinator, the author played a significant role in dealing with the problems that came with each new batch of startups every 6 months. Their role involved engaging with varied issues brought up by the founders of these startups. The author also had to handle disputes between cofounders, identify when people were being dishonest, and confront those who mistreated the startups. They worked hard to ensure the success of YC, driven by the belief that their work ethic would set the standard for everyone else involved and contributed to its success.\n",
      "\u001b[0m\u001b[1;3;34mCurrent response: The author first entered the startup world in a time not specified, and since then, they have been involved in several successful ventures, including ventures that the context does not provide specific information about. Their most notable achievement was starting his own investment firm with Jessica, Robert, and Trevor. This firm was designed to implement the ideas they had been discussing about improving venture capital, such as making a larger number of smaller investments and funding younger, more technical founders. The success of their investment firm led to the author being recognized as a key player in the startup world, with achievements such as giving a talk to the Harvard Computer Society on how to start a startup, realizing the potential of angel investing, and co-founding the innovative investment firm, Y Combinator. In Y Combinator, the author played a significant role in dealing with the problems that came with each new batch of startups every 6 months. Their role involved engaging with varied issues brought up by the founders of these startups. The author also had to handle disputes between cofounders, identify when people were being dishonest, and confront those who mistreated the startups. They worked hard to ensure the success of YC, driven by the belief that their work ethic would set the standard for everyone else involved and contributed to its success.\n",
      "\u001b[0m\u001b[1;3;38;5;200mLookahead response: The author's journey in the startup world was not without challenges. They faced numerous obstacles and had to make tough decisions, but their resilience and dedication to their vision helped them overcome these hurdles. They continued to innovate and push boundaries in the startup ecosystem, leading to their recognition as a thought leader in the field. Their experiences and insights have been shared in various platforms, including [Search(What are some platforms where the author shared their experiences and insights in the startup world?)]\n",
      "\u001b[0m\u001b[1;3;38;5;200mUpdated lookahead response: The author's journey in the startup world was not without challenges. They faced numerous obstacles and had to make tough decisions, but their resilience and dedication to their vision helped them overcome these hurdles. They continued to innovate and push boundaries in the startup ecosystem, leading to their recognition as a thought leader in the field. Their experiences and insights have been shared in various platforms, including giving talks, such as the one at the Harvard Computer Society, and through writing essays. They also shared their insights through practical application by starting their own investment firm.\n",
      "\u001b[0m\u001b[1;3;34mCurrent response: The author first entered the startup world in a time not specified, and since then, they have been involved in several successful ventures, including ventures that the context does not provide specific information about. Their most notable achievement was starting his own investment firm with Jessica, Robert, and Trevor. This firm was designed to implement the ideas they had been discussing about improving venture capital, such as making a larger number of smaller investments and funding younger, more technical founders. The success of their investment firm led to the author being recognized as a key player in the startup world, with achievements such as giving a talk to the Harvard Computer Society on how to start a startup, realizing the potential of angel investing, and co-founding the innovative investment firm, Y Combinator. In Y Combinator, the author played a significant role in dealing with the problems that came with each new batch of startups every 6 months. Their role involved engaging with varied issues brought up by the founders of these startups. The author also had to handle disputes between cofounders, identify when people were being dishonest, and confront those who mistreated the startups. They worked hard to ensure the success of YC, driven by the belief that their work ethic would set the standard for everyone else involved and contributed to its success. The author's journey in the startup world was not without challenges. They faced numerous obstacles and had to make tough decisions, but their resilience and dedication to their vision helped them overcome these hurdles. They continued to innovate and push boundaries in the startup ecosystem, leading to their recognition as a thought leader in the field. Their experiences and insights have been shared in various platforms, including giving talks, such as the one at the Harvard Computer Society, and through writing essays. They also shared their insights through practical application by starting their own investment firm.\n",
      "\u001b[0m\u001b[1;3;38;5;200mLookahead response: Done\n",
      "\u001b[0m"
     ]
    }
   ],
   "source": [
    "response = flare_query_engine.query(\n",
    "    \"Can you tell me about the author's trajectory in the startup world?\"\n",
    ")"
   ]
  },
  {
   "cell_type": "code",
   "execution_count": 11,
   "id": "78085cc6-d9b7-486b-8c6c-5ad092678642",
   "metadata": {
    "id": "78085cc6-d9b7-486b-8c6c-5ad092678642",
    "outputId": "9c4c5428-d197-4df0-eb50-56d1c5a4cb40"
   },
   "outputs": [
    {
     "name": "stdout",
     "output_type": "stream",
     "text": [
      "The author first entered the startup world in a time not specified, and since then, they have been involved in several ventures, including startups that are not specified in the context. Some of their most notable achievements include giving a talk to the Harvard Computer Society on how to start a startup, realizing the importance of angel investing and deciding to stop procrastinating about it, and co-founding an investment firm with Jessica, Robert, and Trevor, implementing innovative ideas they had discussed. This firm, Y Combinator, was unique in that it combined the concepts of an angel firm and a startup incubator, which was a novel idea at the time. Their journey in the startup world continued as they started working on a new version of Arc in the summer of 2006. To test this new Arc, he wrote Hacker News, which was initially meant to be a news aggregator for startup founders and their influence in the startup world grew. Their influence further expanded when Hacker News grew in popularity, becoming a go-to resource for tech and startup news. The author's journey in the startup world is still ongoing, with their current focus being on angel investing and starting an investment firm. He plans to implement the ideas he has been discussing, such as making a larger number of smaller investments, funding younger, more technical founders instead of MBAs, and letting the founders remain as CEO. He also plans to work with Jessica, Robert, and Trevor on this new venture. The author's future plans in the startup world include starting his own investment firm with Jessica, Robert, and Trevor. They aim to implement the ideas they've been discussing about venture capital, such as making a larger number of smaller investments, funding younger, more technical founders, and allowing founders to remain as CEOs. The author also plans to fund the firm and Jessica will quit her job to work for it. Additionally, the author intends to stop procrastinating about angel investing. The author's trajectory in the startup world is marked by innovation, collaboration, and a commitment to supporting young, technical founders. His future plans indicate a continued dedication to these principles. The author plans to start his own investment firm with Jessica, Robert, and Trevor. They aim to implement the ideas they've been discussing about venture capital, such as making a larger number of smaller investments and funding younger, more technical founders. The author also plans to stop procrastinating about angel investing.\n"
     ]
    }
   ],
   "source": [
    "print(response)"
   ]
  },
  {
   "cell_type": "code",
   "execution_count": 13,
   "id": "6e3645ac-2220-4b32-80a6-0b82d2ec7e38",
   "metadata": {
    "id": "6e3645ac-2220-4b32-80a6-0b82d2ec7e38",
    "outputId": "956fd167-1f66-4a5b-a861-2ac608fdbdf8"
   },
   "outputs": [
    {
     "name": "stdout",
     "output_type": "stream",
     "text": [
      "\u001b[1;3;32mQuery: Can you tell me about what the author did during his time at YC?\n",
      "\u001b[0m\u001b[1;3;34mCurrent response: \n",
      "\u001b[0m\u001b[1;3;38;5;200mLookahead response: The author was involved in [Search(What did the author do during his time at YC?)] during his time at YC.\n",
      "\u001b[0m\u001b[1;3;38;5;200mUpdated lookahead response: The author was involved in various activities during his time at YC. He worked on problems brought by new batches of startups every six months, making their issues his own. This work was engaging due to the variety of problems and the effectiveness of good founders. He also dealt with disputes between cofounders, identified when people were lying, and confronted those who mistreated the startups. Additionally, he was involved in the selection and funding process for startups, investing $6k per founder in return for 6% of the company. He also noticed the benefits of funding startups in batches, such as reducing isolation among founders and creating a tight-knit community of alumni during his time at YC.\n",
      "\u001b[0m\u001b[1;3;34mCurrent response:  The author was involved in various activities during his time at YC. He worked on problems brought by new batches of startups every six months, making their issues his own. This work was engaging due to the variety of problems and the effectiveness of good founders. He also dealt with disputes between cofounders, identified when people were lying, and confronted those who mistreated the startups. Additionally, he was involved in the selection and funding process for startups, investing $6k per founder in return for 6% of the company. He also noticed the benefits of funding startups in batches, such as reducing isolation among founders and creating a tight-knit community of alumni during his time at YC.\n",
      "\u001b[0m\u001b[1;3;38;5;200mLookahead response: Done\n",
      "\u001b[0m"
     ]
    }
   ],
   "source": [
    "response = flare_query_engine.query(\n",
    "    \"Can you tell me about what the author did during his time at YC?\"\n",
    ")"
   ]
  },
  {
   "cell_type": "code",
   "execution_count": 14,
   "id": "31279b2f-7cc9-4e10-962f-e37cbe5e2d31",
   "metadata": {
    "id": "31279b2f-7cc9-4e10-962f-e37cbe5e2d31",
    "outputId": "32ac1082-6229-4001-f3ae-460841288e07"
   },
   "outputs": [
    {
     "name": "stdout",
     "output_type": "stream",
     "text": [
      "The author was involved in various activities during his time at YC. He worked on problems brought by new batches of startups every six months, making their issues his own. This work was engaging due to the variety of problems and the effectiveness of good founders. He also dealt with disputes between cofounders, identified when people were lying, and confronted those who mistreated the startups. Additionally, he was involved in the selection and funding process for startups, investing $6k per founder in return for 6% of the company. He also noticed the benefits of funding startups in batches, such as reducing isolation among founders and creating a tight-knit community of alumni during his time at YC. Done\n"
     ]
    }
   ],
   "source": [
    "print(response)"
   ]
  },
  {
   "cell_type": "code",
   "execution_count": null,
   "id": "a5c86772-be9c-4a8f-8720-8a62ae9a7d1d",
   "metadata": {
    "id": "a5c86772-be9c-4a8f-8720-8a62ae9a7d1d",
    "outputId": "ac36ec95-0bd9-42ae-d9f1-f898751fcd1e"
   },
   "outputs": [
    {
     "name": "stdout",
     "output_type": "stream",
     "text": [
      "\u001b[32;1m\u001b[1;3mQuery: Tell me about the author's life from childhood to adulthood\n",
      "\u001b[0m\u001b[36;1m\u001b[1;3mCurrent response: \n",
      "\u001b[0m\u001b[38;5;200m\u001b[1;3mLookahead response: The author grew up in a small town, where they [Search(What did the author do during their childhood?)] and later went on to attend college, majoring in [Search(What did the author major in during college?)].\n",
      "\u001b[0m\u001b[38;5;200m\u001b[1;3mUpdated lookahead response: The author grew up in a small town, where they mainly worked on writing and programming outside of school. They wrote short stories and tried programming on the IBM 1401 using an early version of Fortran and later went on to attend college, majoring in \n",
      "\u001b[0m\u001b[36;1m\u001b[1;3mCurrent response:  The author grew up in a small town, where they mainly worked on writing and programming outside of school. They wrote short stories and tried programming on the IBM 1401 using an early version of Fortran and later went on to attend college, majoring in\n",
      "\u001b[0m\u001b[38;5;200m\u001b[1;3mLookahead response: computer science and English literature. After college, they [Search(What did the author do after college?)]\n",
      "\u001b[0m\u001b[38;5;200m\u001b[1;3mUpdated lookahead response: computer science and English literature. After college, they wrote essays on various topics, worked on spam filters, did some painting, and hosted dinners for friends. They also bought a building in Cambridge to use as an office. Later, the author applied to art schools, got accepted into RISD, and attended their foundation classes. They also received an invitation to take the entrance exam at the Accademia di Belli Arti in Florence.\n",
      "\u001b[0m\u001b[36;1m\u001b[1;3mCurrent response: The author grew up in a small town, where they mainly worked on writing and programming outside of school. They wrote short stories and tried programming on the IBM 1401 using an early version of Fortran and later went on to attend college, majoring in computer science and English literature. After college, they wrote essays on various topics, worked on spam filters, did some painting, and hosted dinners for friends. They also bought a building in Cambridge to use as an office. Later, the author applied to art schools, got accepted into RISD, and attended their foundation classes. They also received an invitation to take the entrance exam at the Accademia di Belli Arti in Florence.\n",
      "\u001b[0m\u001b[38;5;200m\u001b[1;3mLookahead response: During their time at RISD and the Accademia di Belli Arti, the author honed their artistic skills and further developed their writing, eventually transitioning into a successful career as an author and artist. [Search(What did the author achieve in their career?)]\n",
      "\u001b[0m\u001b[38;5;200m\u001b[1;3mUpdated lookahead response: During their time at RISD and the Accademia di Belli Arti, the author honed their artistic skills and further developed their writing, eventually transitioning into a successful career as an author and artist. The author achieved several things in their career, including publishing essays online, writing a book called \"Hackers & Painters,\" working on spam filters, doing some painting, and hosting dinners for friends. They also discussed ideas about venture capital and how it could be improved.\n",
      "\u001b[0m\u001b[36;1m\u001b[1;3mCurrent response: The author grew up in a small town, where they mainly worked on writing and programming outside of school. They wrote short stories and tried programming on the IBM 1401 using an early version of Fortran and later went on to attend college, majoring in computer science and English literature. After college, they wrote essays on various topics, worked on spam filters, did some painting, and hosted dinners for friends. They also bought a building in Cambridge to use as an office. Later, the author applied to art schools, got accepted into RISD, and attended their foundation classes. They also received an invitation to take the entrance exam at the Accademia di Belli Arti in Florence. During their time at RISD and the Accademia di Belli Arti, the author honed their artistic skills and further developed their writing, eventually transitioning into a successful career as an author and artist. The author achieved several things in their career, including publishing essays online, writing a book called \"Hackers & Painters,\" working on spam filters, doing some painting, and hosting dinners for friends. They also discussed ideas about venture capital and how it could be improved.\n",
      "\u001b[0m\u001b[38;5;200m\u001b[1;3mLookahead response: done\n",
      "\u001b[0m"
     ]
    }
   ],
   "source": [
    "response = flare_query_engine.query(\n",
    "    \"Tell me about the author's life from childhood to adulthood\"\n",
    ")"
   ]
  },
  {
   "cell_type": "code",
   "execution_count": null,
   "id": "b34a5e7c-37fa-4d08-b2ad-2cf757fe230a",
   "metadata": {
    "id": "b34a5e7c-37fa-4d08-b2ad-2cf757fe230a",
    "outputId": "21ec526d-af73-4cb9-b4a9-f9d2f83ba276"
   },
   "outputs": [
    {
     "name": "stdout",
     "output_type": "stream",
     "text": [
      "The author grew up in a small town, where they mainly worked on writing and programming outside of school. They wrote short stories and tried programming on the IBM 1401 using an early version of Fortran and later went on to attend college, majoring in computer science and English literature. After college, they wrote essays on various topics, worked on spam filters, did some painting, and hosted dinners for friends. They also bought a building in Cambridge to use as an office. Later, the author applied to art schools, got accepted into RISD, and attended their foundation classes. They also received an invitation to take the entrance exam at the Accademia di Belli Arti in Florence. During their time at RISD and the Accademia di Belli Arti, the author honed their artistic skills and further developed their writing, eventually transitioning into a successful career as an author and artist. The author achieved several things in their career, including publishing essays online, writing a book called \"Hackers & Painters,\" working on spam filters, doing some painting, and hosting dinners for friends. They also discussed ideas about venture capital and how it could be improved. \n"
     ]
    }
   ],
   "source": [
    "print(response)"
   ]
  },
  {
   "cell_type": "code",
   "execution_count": null,
   "id": "8f1298b6-459a-4231-814f-46a9c2629984",
   "metadata": {
    "id": "8f1298b6-459a-4231-814f-46a9c2629984"
   },
   "outputs": [],
   "source": [
    "response = index_query_engine.query(\n",
    "    \"Can you tell me about the author's trajectory in the startup world?\"\n",
    ")"
   ]
  },
  {
   "cell_type": "code",
   "execution_count": null,
   "id": "b01a53e8-ec7e-4599-bcbb-532e23037083",
   "metadata": {
    "id": "b01a53e8-ec7e-4599-bcbb-532e23037083",
    "outputId": "91947636-b915-4338-9327-65a2f5e5f413"
   },
   "outputs": [
    {
     "name": "stdout",
     "output_type": "stream",
     "text": [
      "The author's trajectory in the startup world began with their involvement in various projects and activities, such as writing essays on different topics, working on spam filters, and painting. They also hosted dinners for friends, which helped them learn how to cook for groups and network with people from various backgrounds.\n",
      "\n",
      "In October 2003, the author met Jessica Livingston at a party, who later became a significant figure in their startup journey. Jessica worked in marketing at a Boston investment bank and was intrigued by the stories of startup founders she met through the author. She decided to compile a book of interviews with these founders.\n",
      "\n",
      "In early 2005, Jessica interviewed for a marketing job at a Boston VC firm, which led the author to discuss the issues with venture capital and how it could be improved. The author also gave a talk at the Harvard Computer Society about starting a startup, which made them realize they should start angel investing.\n",
      "\n",
      "On March 11, the author, Jessica, and their friends Robert and Trevor decided to start their own investment firm, implementing the ideas they had discussed. They founded Y Combinator, an angel investment firm that made unconventional choices in the startup world. The author's trajectory in the startup world has been marked by their involvement in various projects, networking, and eventually co-founding a successful investment firm.\n"
     ]
    }
   ],
   "source": [
    "print(str(response))"
   ]
  },
  {
   "cell_type": "code",
   "execution_count": null,
   "id": "a6aaa727-9007-4d0c-8386-d644c46d3a4a",
   "metadata": {
    "id": "a6aaa727-9007-4d0c-8386-d644c46d3a4a"
   },
   "outputs": [],
   "source": [
    "response = index_query_engine.query(\n",
    "    \"Tell me about the author's life from childhood to adulthood\"\n",
    ")"
   ]
  },
  {
   "cell_type": "code",
   "execution_count": null,
   "id": "e9eb50ab-c4a8-467b-acbc-750918f721c9",
   "metadata": {
    "id": "e9eb50ab-c4a8-467b-acbc-750918f721c9",
    "outputId": "c6cc3bf6-858c-48b7-ee63-7b7cc896db31"
   },
   "outputs": [
    {
     "name": "stdout",
     "output_type": "stream",
     "text": [
      "The author's life from childhood to adulthood includes a variety of experiences and interests. They wrote numerous essays on various topics, which were later compiled into a book called Hackers & Painters. They also worked on spam filters and pursued painting as a hobby. The author used to host dinners for friends every Thursday night, which taught them how to cook for groups. They bought a building in Cambridge, which was a former candy factory and later a porn studio, to use as an office.\n",
      "\n",
      "In October 2003, the author met Jessica Livingston at a party, and they started dating a few days later. Jessica worked in marketing at a Boston investment bank and later decided to compile a book of interviews with startup founders. When she was looking for a new job, the author shared their thoughts on how venture capital should be improved.\n",
      "\n",
      "The author also attended the Accademia, a prestigious institution, to study painting. However, they were disappointed with the lack of teaching and learning taking place there. The author painted still lives in their bedroom at night, using leftover scraps of canvas.\n"
     ]
    }
   ],
   "source": [
    "print(str(response))"
   ]
  }
 ],
 "metadata": {
  "colab": {
   "provenance": []
  },
  "kernelspec": {
   "display_name": "Python 3 (ipykernel)",
   "language": "python",
   "name": "python3"
  },
  "language_info": {
   "codemirror_mode": {
    "name": "ipython",
    "version": 3
   },
   "file_extension": ".py",
   "mimetype": "text/x-python",
   "name": "python",
   "nbconvert_exporter": "python",
   "pygments_lexer": "ipython3",
   "version": "3.11.3"
  }
 },
 "nbformat": 4,
 "nbformat_minor": 5
}
