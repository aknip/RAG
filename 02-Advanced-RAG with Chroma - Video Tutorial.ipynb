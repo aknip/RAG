{
 "cells": [
  {
   "cell_type": "markdown",
   "id": "ec889d86-0d16-477f-8b7f-be03d73ad957",
   "metadata": {},
   "source": [
    "# Advanced RAG with Chroma - Video Tutorial"
   ]
  },
  {
   "cell_type": "markdown",
   "id": "58ee2f53-d88b-4f00-94a2-75a66d4149e9",
   "metadata": {},
   "source": [
    "Advanced RAG Techniques - Tutorial, Videos, by Andrew NG (Chroma DB)\n",
    "\n",
    "- https://medium.com/@LakshmiNarayana_U/advanced-rag-techniques-in-ai-retrieval-a-deep-dive-into-the-chroma-course-d8b06118cde3\n",
    "- Notebooks: https://github.com/dzlab/deeplearning.ai/tree/main/AdvancedRetrievalforAIwithChroma\n",
    "\n",
    "Welcome! Here's a few notes about the Chroma course notebooks.\n",
    " - A number of warnings pop up when running the notebooks. These are normal and can be ignored.\n",
    " - Some operations such as calling an LLM or an opeation using generated data return unpredictable results and so your notebook outputs may differ from the video.\n",
    "  "
   ]
  },
  {
   "cell_type": "markdown",
   "id": "a4445fc2-5a99-4d86-bde0-cb2a2ef659f1",
   "metadata": {},
   "source": [
    "# Run from an virtualenv!\n",
    "```\n",
    "python3 -m virtualenv myenv \n",
    "source myenv/bin/activate \n",
    "# pip install notebook\n",
    "jupyter notebook\n",
    "```"
   ]
  },
  {
   "cell_type": "code",
   "execution_count": null,
   "id": "9cde4bd3-5f52-4a79-9364-1af672f4ed12",
   "metadata": {},
   "outputs": [],
   "source": [
    "# Pydantic >=2 causes compatibility issues with llama-index - that's why it's downgraded to 1.10.10\n",
    "%pip install llama-index llama-index-llms-openai langchain chardet lark sentence-transformers chromadb umap umap-learn matplotlib pydantic==1.10.10 --quiet"
   ]
  },
  {
   "cell_type": "code",
   "execution_count": 2,
   "id": "5a5536f0-651c-40e7-aa15-27ee0cda80b7",
   "metadata": {
    "height": 30
   },
   "outputs": [],
   "source": [
    "from helper_utils import word_wrap"
   ]
  },
  {
   "cell_type": "code",
   "execution_count": 3,
   "id": "ff732a09-0976-4ebe-876a-c5859bb8af63",
   "metadata": {},
   "outputs": [],
   "source": [
    "import sys\n",
    "import os\n",
    "import json\n",
    "from getpass import getpass\n",
    "import psutil\n",
    "import pprint\n",
    "from pprint import pprint as prettyprint\n",
    "import textwrap"
   ]
  },
  {
   "cell_type": "code",
   "execution_count": 3,
   "id": "195417a7-e827-4293-984a-99fe49ece21c",
   "metadata": {},
   "outputs": [
    {
     "name": "stdin",
     "output_type": "stream",
     "text": [
      "Secrets (JSON string):  ········\n"
     ]
    }
   ],
   "source": [
    "IN_NOTEBOOK = any([\"jupyter-notebook\" in i for i in psutil.Process().parent().cmdline()])\n",
    "if IN_NOTEBOOK:\n",
    "  CREDS = json.loads(getpass(\"Secrets (JSON string): \"))\n",
    "  os.environ['CREDS'] = json.dumps(CREDS)\n",
    "  CREDS = json.loads(os.getenv('CREDS'))"
   ]
  },
  {
   "cell_type": "code",
   "execution_count": 4,
   "id": "007aa445-ee33-48e9-9ad7-29c58b0d4dd3",
   "metadata": {},
   "outputs": [],
   "source": [
    "os.environ[\"OPENAI_API_KEY\"] = CREDS['OpenAI']['v2']['credential'] "
   ]
  },
  {
   "cell_type": "markdown",
   "id": "c713b0a7-dacd-47a8-876b-fcfc22facc53",
   "metadata": {},
   "source": [
    "# 1. Simple RAG with LLM (OpenAI)"
   ]
  },
  {
   "cell_type": "code",
   "execution_count": 4,
   "id": "3748b16d-d4a7-49c3-a48a-57dcfc42acd6",
   "metadata": {
    "height": 166
   },
   "outputs": [
    {
     "name": "stdout",
     "output_type": "stream",
     "text": [
      "1 Dear shareholders, colleagues, customers, and partners:  \n",
      "We are\n",
      "living through a period of historic economic, societal, and\n",
      "geopolitical change. The world in 2022 looks nothing like \n",
      "the world in\n",
      "2019. As I write this, inflation is at a 40 -year high, supply chains\n",
      "are stretched, and the war in Ukraine is \n",
      "ongoing. At the same time, we\n",
      "are entering a technological era with the potential to power awesome\n",
      "advancements \n",
      "across every sector of our economy and society. As the\n",
      "world’s largest softw\n"
     ]
    }
   ],
   "source": [
    "from pypdf import PdfReader\n",
    "\n",
    "reader = PdfReader(\"./data/microsoft_annual_report_2022.pdf\")\n",
    "pdf_texts = [p.extract_text().strip() for p in reader.pages]\n",
    "\n",
    "# Filter the empty strings\n",
    "pdf_texts = [text for text in pdf_texts if text]\n",
    "\n",
    "print(word_wrap(pdf_texts[0][:500]))"
   ]
  },
  {
   "cell_type": "code",
   "execution_count": 5,
   "id": "888a86f8-2fe2-4682-bdaf-c15129ed1a32",
   "metadata": {
    "height": 166
   },
   "outputs": [
    {
     "name": "stdout",
     "output_type": "stream",
     "text": [
      "\n",
      "Total chunks: 347\n",
      "\n",
      "increased, due in large part to significant global datacenter\n",
      "expansions and the growth in Xbox sales and usage. Despite \n",
      "these\n",
      "increases, we remain dedicated to achieving a net -zero future. We\n",
      "recognize that progress won’t always be linear, \n",
      "and the rate at which\n",
      "we can implement emissions reductions is dependent on many factors that\n",
      "can fluctuate over time.  \n",
      "On the path to becoming water positive, we\n",
      "invested in 21 water replenishment projects that are expected to\n",
      "generate \n",
      "over 1.3  million\n"
     ]
    }
   ],
   "source": [
    "from langchain.text_splitter import RecursiveCharacterTextSplitter, SentenceTransformersTokenTextSplitter\n",
    "\n",
    "character_splitter = RecursiveCharacterTextSplitter(\n",
    "    separators=[\"\\n\\n\", \"\\n\", \". \", \" \", \"\"],\n",
    "    chunk_size=1000,\n",
    "    chunk_overlap=0\n",
    ")\n",
    "character_split_texts = character_splitter.split_text('\\n\\n'.join(pdf_texts))\n",
    "\n",
    "print(f\"\\nTotal chunks: {len(character_split_texts)}\\n\")\n",
    "print(word_wrap(character_split_texts[10][:500]))"
   ]
  },
  {
   "cell_type": "code",
   "execution_count": 6,
   "id": "5665c695-22ea-4264-b1ac-5ba720b6d78b",
   "metadata": {
    "height": 149
   },
   "outputs": [
    {
     "name": "stdout",
     "output_type": "stream",
     "text": [
      "increased, due in large part to significant global datacenter\n",
      "expansions and the growth in xbox sales and usage. despite these\n",
      "increases, we remain dedicated to achieving a net - zero future. we\n",
      "recognize that progress won ’ t always be linear, and the rate at which\n",
      "we can implement emissions reductions is dependent on many factors that\n",
      "can fluctuate over time. on the path to becoming water positive, we\n",
      "invested in 21 water replenishment projects that are expected to\n",
      "generate over 1. 3 million cubic meters of volumetric benefits in nine\n",
      "water basins around the world. progress toward our zero waste\n",
      "commitment included diverting more than 15, 200 metric tons of solid\n",
      "waste otherwise headed to landfills and incinerators, as well as\n",
      "launching new circular centers to increase reuse and reduce e - waste\n",
      "at our datacenters. we contracted to protect over 17, 000 acres of land\n",
      "( 50 % more than the land we use to operate ), thus achieving our\n",
      "\n",
      "Total chunks: 349\n"
     ]
    }
   ],
   "source": [
    "token_splitter = SentenceTransformersTokenTextSplitter(chunk_overlap=0, tokens_per_chunk=256)\n",
    "\n",
    "token_split_texts = []\n",
    "for text in character_split_texts:\n",
    "    token_split_texts += token_splitter.split_text(text)\n",
    "\n",
    "print(word_wrap(token_split_texts[10]))\n",
    "print(f\"\\nTotal chunks: {len(token_split_texts)}\")"
   ]
  },
  {
   "cell_type": "code",
   "execution_count": 7,
   "id": "c2a13d14-4484-46f0-8e67-277337f9d138",
   "metadata": {
    "height": 98
   },
   "outputs": [
    {
     "name": "stdout",
     "output_type": "stream",
     "text": [
      "[[0.04256268963217735, 0.03321182727813721, 0.030340125784277916, -0.0348665714263916, 0.0684165507555008, -0.0809091329574585, -0.015474419109523296, -0.0014509240863844752, -0.016744473949074745, 0.06770768016576767, -0.05054140463471413, -0.049195315688848495, 0.05139993876218796, 0.09192729741334915, -0.07177835702896118, 0.039519742131233215, -0.012833529151976109, -0.024947509169578552, -0.046228647232055664, -0.024357518181204796, 0.033949628472328186, 0.025502469390630722, 0.02731708064675331, -0.004126202780753374, -0.036338385194540024, 0.00369086186401546, -0.027430439367890358, 0.004796755034476519, -0.02889624610543251, -0.01887076534330845, 0.03666625916957855, 0.025695880874991417, 0.031312864273786545, -0.06393437087535858, 0.05394403263926506, 0.08225345611572266, -0.04175690561532974, -0.006995820440351963, -0.02348599024116993, -0.030747968703508377, -0.002979232696816325, -0.07790941745042801, 0.00935313105583191, 0.0031628687866032124, -0.022257106378674507, -0.018294697627425194, -0.009612484835088253, -0.03150684013962746, -0.0055196210741996765, -0.03270301967859268, 0.1680297702550888, -0.047459643334150314, -0.05001681670546532, -0.0026596910320222378, -0.04104721173644066, -0.07003945857286453, 0.018295926973223686, -0.03143112733960152, -0.047411154955625534, -0.023663625121116638, 0.059449538588523865, -0.07201441377401352, 0.004945213906466961, -0.05532697215676308, 0.08745479583740234, 0.027872629463672638, -0.039772581309080124, 0.03452995792031288, -0.09992025047540665, 0.03289760276675224, -0.057804204523563385, 0.002454693429172039, -0.027892302721738815, -0.049947068095207214, -0.04058244079351425, 0.011917535215616226, 0.020419053733348846, 0.07765397429466248, 0.06351622939109802, 0.01754686050117016, 0.02346097119152546, -0.007916553877294064, 0.0170742217451334, 0.008641229942440987, -0.06815340369939804, 0.0342961810529232, 0.0006465223850682378, 0.02273540571331978, 0.05279359966516495, -0.058573219925165176, -0.09784103184938431, -0.001471897354349494, 0.1373988837003708, 0.0020795001182705164, -0.07581514120101929, 0.05786573514342308, -0.06069639325141907, -0.06595758348703384, -0.033650610595941544, -0.03185924515128136, 0.012266541831195354, 0.09373298287391663, 0.06799505650997162, -0.08434034883975983, 0.04402470588684082, -0.04263875633478165, 0.011163055896759033, 0.10505214333534241, 0.029505811631679535, -0.018521122634410858, -0.029688281938433647, -0.03377026692032814, 0.0014966392191126943, 0.037323687225580215, -0.020249709486961365, 0.05842074379324913, -0.039791546761989594, -0.021219657734036446, 0.006418111268430948, -0.010290155187249184, 0.019626159220933914, 0.003679725807160139, -0.05031096190214157, -0.01689707487821579, 0.04854502156376839, 0.0668230652809143, 0.019536364823579788, 2.7227534837715087e-33, -0.035934094339609146, 0.015661897137761116, 0.09677654504776001, -0.00028518124599941075, -0.009768486022949219, -0.09068470448255539, 0.014486260712146759, 0.01259071659296751, 0.025435838848352432, -0.03443485125899315, 0.004262913018465042, 0.027121391147375107, -0.020409971475601196, 0.07688485831022263, 0.03572104498744011, -0.13492533564567566, 0.05657849833369255, 0.018364526331424713, 0.022577853873372078, -0.035890303552150726, -0.011456704698503017, -0.04993828758597374, -0.01601240411400795, -0.06335369497537613, 0.10463955253362656, -0.0880160704255104, -0.004462305922061205, -0.010301033034920692, -0.017630744725465775, -0.020292259752750397, 0.006704214960336685, 0.0917234867811203, -0.007795068435370922, 0.0059494939632713795, -0.015348820947110653, 0.01827959716320038, -0.018921488896012306, 0.03987525403499603, -0.003967330325394869, 0.03341930732131004, -0.05607724189758301, 0.07581258565187454, -0.00562551012262702, -0.05445525422692299, 0.06698443740606308, -0.025974387302994728, 0.11199559271335602, -0.036421388387680054, 0.005012572277337313, 0.032009996473789215, 0.04963689669966698, 0.09711600095033646, -0.11546947807073593, 0.06413274258375168, -0.03397872671484947, -0.0929156020283699, 0.049754798412323, -0.08613421022891998, -0.008366311900317669, -0.013703720644116402, -0.07882803678512573, 0.01965436525642872, -0.03715045377612114, 0.014476167969405651, -0.049403123557567596, 0.05349241942167282, 0.09139014035463333, 0.031002849340438843, 0.03028763458132744, 0.02134283259510994, -0.04393773153424263, -0.04297444224357605, -0.002265054266899824, -0.021944044157862663, 0.005474567878991365, -0.01024392619729042, 0.02167792245745659, -0.027323605492711067, -0.0007882172940298915, 0.03308913856744766, -0.007402424700558186, 0.009829970076680183, 0.013544084504246712, -0.03274485468864441, 0.05601906776428223, -0.060116495937108994, 0.03112199157476425, 0.034422438591718674, 0.026550492271780968, -0.0068079023621976376, -0.01105430442839861, -0.014439888298511505, 0.022785432636737823, -0.027951959520578384, -0.016209058463573456, -3.6892548572511786e-33, 0.029203657060861588, 0.046704839915037155, -0.049644146114587784, 0.06324486434459686, 0.028437979519367218, -0.02235719934105873, 0.03347986936569214, -0.01847870647907257, 0.018780048936605453, 0.0024116504937410355, -0.08167841285467148, 0.10084168612957001, 0.04902314022183418, 0.036467328667640686, -0.04556041583418846, -0.07049192488193512, 0.0253404900431633, -0.032679423689842224, -0.04296498000621796, -0.07251021265983582, 0.04130711033940315, 0.05049722269177437, 0.006477164104580879, -0.003324981778860092, -0.08235662430524826, 0.0800771415233612, -0.034653905779123306, 0.008470467291772366, 0.04138948395848274, -0.010147680528461933, -0.10289667546749115, 0.04567127674818039, 0.012796071358025074, -0.06017761304974556, -0.02662787213921547, -0.09725236147642136, 0.015798648819327354, 0.0721912756562233, -0.01532586570829153, 0.0018070716178044677, 0.06039535999298096, -0.07077645510435104, -0.02127872407436371, -0.03851629048585892, -0.05741111934185028, -0.0042538149282336235, 0.03280765563249588, -0.01759553700685501, 0.04975762963294983, -0.0073789735324680805, -0.008354585617780685, 0.04313784837722778, -0.054291557520627975, 0.04316217452287674, 0.023688536137342453, 0.018171606585383415, 0.0928221046924591, -0.004222956486046314, -0.022514553740620613, 0.019288307055830956, -0.03684433177113533, 0.1001519113779068, 0.017764726653695107, 0.022849559783935547, -0.039676833897829056, 0.0016808360815048218, 0.05066922307014465, 0.08564930409193039, -0.026413504034280777, -0.032668616622686386, -0.036949578672647476, -0.0209940318018198, 0.017766054719686508, -0.07413066923618317, -0.024688201025128365, -0.039948929101228714, -0.024767998605966568, -0.02419408969581127, -0.010816422291100025, 0.010816036723554134, -0.030551789328455925, 0.10519367456436157, -0.00802178867161274, -0.03289627283811569, 0.1480439156293869, -0.0709429457783699, -0.05021907761693001, -0.15231895446777344, 0.022767458111047745, 0.13845956325531006, -0.07923310995101929, -0.041601043194532394, -0.09371680021286011, 0.0660182535648346, 0.043520379811525345, -4.9979703931057884e-08, -0.010548013262450695, 0.06008029729127884, 0.0288234893232584, 0.07072242349386215, 0.03157537057995796, -0.05913802981376648, 0.05488335341215134, 0.16316644847393036, 0.03475949168205261, 0.027875427156686783, 0.07126773148775101, -0.006946343928575516, -0.052904337644577026, 0.011619042605161667, -0.02683497779071331, 0.028954343870282173, 0.043446920812129974, -0.07012002915143967, -0.05879400670528412, -0.03921941667795181, -0.017293933779001236, -0.030054466798901558, -0.08112523704767227, -0.0450621023774147, 0.05249616131186485, -0.04923568293452263, 0.08052120357751846, 0.06585506349802017, -0.0006081435712985694, -0.04566407948732376, 0.030586933717131615, -0.006386058405041695, -0.03175577148795128, 0.00822879932820797, 0.01076099555939436, 0.0010412958217784762, 0.0190786924213171, 0.0322798527777195, -0.014408696442842484, 0.03579797223210335, -0.0722818523645401, 0.03363299369812012, 0.006663573905825615, -0.01820623315870762, -0.020436251536011696, -0.0026354112196713686, -0.18547716736793518, 0.012449318543076515, 0.029731351882219315, -0.038548510521650314, -0.009753342717885971, -0.01369436364620924, 0.009183356538414955, 0.08488920331001282, 0.1272188425064087, 0.05545997992157936, -0.049361664801836014, -0.011912033893167973, -0.05697927623987198, 0.10420086234807968, 0.057180631905794144, -0.10395048558712006, -0.02376784197986126, -0.027168966829776764]]\n"
     ]
    }
   ],
   "source": [
    "import chromadb\n",
    "from chromadb.utils.embedding_functions import SentenceTransformerEmbeddingFunction\n",
    "from langchain.embeddings.openai import OpenAIEmbeddings\n",
    "\n",
    "embedding_function = SentenceTransformerEmbeddingFunction()\n",
    "# embedding_function = OpenAIEmbeddings()\n",
    "print(embedding_function([token_split_texts[10]]))"
   ]
  },
  {
   "cell_type": "code",
   "execution_count": 8,
   "id": "8ba6c8c5-9ce4-44d0-9223-6fdd77871f87",
   "metadata": {
    "height": 132
   },
   "outputs": [
    {
     "data": {
      "text/plain": [
       "349"
      ]
     },
     "execution_count": 8,
     "metadata": {},
     "output_type": "execute_result"
    }
   ],
   "source": [
    "chroma_client = chromadb.Client()\n",
    "\n",
    "chroma_collection = chroma_client.create_collection(\n",
    "    \"microsoft_annual_report_2022\", \n",
    "    embedding_function=embedding_function\n",
    ")\n",
    "\n",
    "ids = [str(i) for i in range(len(token_split_texts))]\n",
    "\n",
    "chroma_collection.add(ids=ids, documents=token_split_texts)\n",
    "chroma_collection.count()"
   ]
  },
  {
   "cell_type": "code",
   "execution_count": 9,
   "id": "bfdb54db-a442-423c-b006-c33a257cd7d7",
   "metadata": {
    "height": 149
   },
   "outputs": [
    {
     "name": "stdout",
     "output_type": "stream",
     "text": [
      "revenue, classified by significant product and service offerings, was\n",
      "as follows : ( in millions ) year ended june 30, 2022 2021 2020 server\n",
      "products and cloud services $ 67, 321 $ 52, 589 $ 41, 379 office\n",
      "products and cloud services 44, 862 39, 872 35, 316 windows 24, 761 22,\n",
      "488 21, 510 gaming 16, 230 15, 370 11, 575 linkedin 13, 816 10, 289 8,\n",
      "077 search and news advertising 11, 591 9, 267 8, 524 enterprise\n",
      "services 7, 407 6, 943 6, 409 devices 6, 991 6, 791 6, 457 other 5, 291\n",
      "4, 479 3, 768 total $ 198, 270 $ 168, 088 $ 143, 015 we have recast\n",
      "certain previously reported amounts in the table above to conform to\n",
      "the way we internally manage and monitor our business.\n",
      "\n",
      "\n",
      "74 note 13 — unearned revenue unearned revenue by segment was as\n",
      "follows : ( in millions ) june 30, 2022 2021 productivity and business\n",
      "processes $ 24, 558 $ 22, 120 intelligent cloud 19, 371 17, 710 more\n",
      "personal computing 4, 479 4, 311 total $ 48, 408 $ 44, 141 changes in\n",
      "unearned revenue were as follows : ( in millions ) year ended june 30,\n",
      "2022 balance, beginning of period $ 44, 141 deferral of revenue 110,\n",
      "455 recognition of unearned revenue ( 106, 188 ) balance, end of period\n",
      "$ 48, 408 revenue allocated to remaining performance obligations, which\n",
      "includes unearned revenue and amounts that will be invoiced and\n",
      "recognized as revenue in future periods, was $ 193 billion as of june\n",
      "30, 2022, of which $ 189 billion is related to the commercial portion\n",
      "of revenue. we expect to recognize approximately 45 % of this revenue\n",
      "over the next 12\n",
      "\n",
      "\n",
      "that are not sold separately. • we tested the mathematical accuracy of\n",
      "management ’ s calculations of revenue and the associated timing of\n",
      "revenue recognized in the financial statements.\n",
      "\n",
      "\n",
      "82 in addition, certain costs incurred at a corporate level that are\n",
      "identifiable and that benefit our segments are allocated to them. these\n",
      "allocated costs include legal, including settlements and fines,\n",
      "information technology, human resources, finance, excise taxes, field\n",
      "selling, shared facilities services, and customer service and support.\n",
      "each allocation is measured differently based on the specific facts and\n",
      "circumstances of the costs being allocated. segment revenue and\n",
      "operating income were as follows during the periods presented : ( in\n",
      "millions ) year ended june 30, 2022 2021 2020 revenue productivity and\n",
      "business processes $ 63, 364 $ 53, 915 $ 46, 398 intelligent cloud 75,\n",
      "251 60, 080 48, 366 more personal computing 59, 655 54, 093 48, 251\n",
      "total $ 198, 270 $ 168, 088 $ 143, 015 operating income\n",
      "\n",
      "\n",
      "47 financial statements and supplementary data income statements ( in\n",
      "millions, except per share amounts ) year ended june 30, 2022 2021 2020\n",
      "revenue : product $ 72, 732 $ 71, 074 $ 68, 041 service and other 125,\n",
      "538 97, 014 74, 974 total revenue 198, 270 168, 088 143, 015 cost of\n",
      "revenue : product 19, 064 18, 219 16, 017 service and other 43, 586 34,\n",
      "013 30, 061 total cost of revenue 62, 650 52, 232 46, 078 gross margin\n",
      "135, 620 115, 856 96, 937 research and development 24, 512 20, 716 19,\n",
      "269 sales and marketing 21, 825 20, 117 19, 598 general and\n",
      "administrative 5, 900 5, 107 5, 111 operating income 83, 383 69, 916\n",
      "52, 959 other income, net 333 1, 186 77 income before income taxes 83,\n",
      "716 71, 102 53, 036 provision for income taxes 10, 978 9, 831 8, 755\n",
      "\n",
      "\n"
     ]
    }
   ],
   "source": [
    "query = \"What was the total revenue?\"\n",
    "\n",
    "results = chroma_collection.query(query_texts=[query], n_results=5)\n",
    "retrieved_documents = results['documents'][0]\n",
    "\n",
    "for document in retrieved_documents:\n",
    "    print(word_wrap(document))\n",
    "    print('\\n')"
   ]
  },
  {
   "cell_type": "code",
   "execution_count": 15,
   "id": "377a84aa-1d93-4e97-9b2d-d59c46355338",
   "metadata": {
    "height": 166
   },
   "outputs": [],
   "source": [
    "import openai\n",
    "from openai import OpenAI\n",
    "\n",
    "openai_client = OpenAI()"
   ]
  },
  {
   "cell_type": "code",
   "execution_count": 16,
   "id": "ba0ed8ca-6640-4c09-9cb3-9de5e7cf46dc",
   "metadata": {
    "height": 319
   },
   "outputs": [],
   "source": [
    "def rag(query, retrieved_documents, model=\"gpt-3.5-turbo\"):\n",
    "    information = \"\\n\\n\".join(retrieved_documents)\n",
    "\n",
    "    messages = [\n",
    "        {\n",
    "            \"role\": \"system\",\n",
    "            \"content\": \"You are a helpful expert financial research assistant. Your users are asking questions about information contained in an annual report.\"\n",
    "            \"You will be shown the user's question, and the relevant information from the annual report. Answer the user's question using only this information.\"\n",
    "        },\n",
    "        {\"role\": \"user\", \"content\": f\"Question: {query}. \\n Information: {information}\"}\n",
    "    ]\n",
    "    \n",
    "    response = openai_client.chat.completions.create(\n",
    "        model=model,\n",
    "        messages=messages,\n",
    "    )\n",
    "    content = response.choices[0].message.content\n",
    "    return content"
   ]
  },
  {
   "cell_type": "code",
   "execution_count": 17,
   "id": "28bac3a2-0d29-48dc-9b48-2d9313239a25",
   "metadata": {
    "height": 64
   },
   "outputs": [
    {
     "name": "stderr",
     "output_type": "stream",
     "text": [
      "huggingface/tokenizers: The current process just got forked, after parallelism has already been used. Disabling parallelism to avoid deadlocks...\n",
      "To disable this warning, you can either:\n",
      "\t- Avoid using `tokenizers` before the fork if possible\n",
      "\t- Explicitly set the environment variable TOKENIZERS_PARALLELISM=(true | false)\n"
     ]
    },
    {
     "name": "stdout",
     "output_type": "stream",
     "text": [
      "The total revenue for the year ended June 30, 2022, was $198,270\n",
      "million.\n"
     ]
    }
   ],
   "source": [
    "output = rag(query=query, retrieved_documents=retrieved_documents)\n",
    "\n",
    "print(word_wrap(output))"
   ]
  },
  {
   "cell_type": "code",
   "execution_count": null,
   "id": "db9f2758-0f5a-49e5-b1fa-517b91324575",
   "metadata": {
    "height": 30
   },
   "outputs": [],
   "source": []
  },
  {
   "cell_type": "markdown",
   "id": "f0a3db75-dc6e-4979-b5ec-c8722fb2edcd",
   "metadata": {},
   "source": [
    "# 2. Visualize embeddings"
   ]
  },
  {
   "cell_type": "code",
   "execution_count": 11,
   "id": "0b1c4fa6-fda2-47dd-9024-c8cd3f10add0",
   "metadata": {},
   "outputs": [
    {
     "name": "stderr",
     "output_type": "stream",
     "text": [
      "/Library/Frameworks/Python.framework/Versions/3.11/lib/python3.11/site-packages/umap/umap_.py:1943: UserWarning: n_jobs value -1 overridden to 1 by setting random_state. Use no seed for parallelism.\n",
      "  warn(f\"n_jobs value {self.n_jobs} overridden to 1 by setting random_state. Use no seed for parallelism.\")\n"
     ]
    }
   ],
   "source": [
    "import umap\n",
    "import numpy as np\n",
    "from tqdm import tqdm\n",
    "\n",
    "embeddings = chroma_collection.get(include=['embeddings'])['embeddings']\n",
    "umap_transform = umap.UMAP(random_state=0, transform_seed=0).fit(embeddings)"
   ]
  },
  {
   "cell_type": "code",
   "execution_count": 12,
   "id": "96c96524-8fe9-432a-b872-09abc36335f8",
   "metadata": {},
   "outputs": [],
   "source": [
    "def project_embeddings(embeddings, umap_transform):\n",
    "    umap_embeddings = np.empty((len(embeddings),2))\n",
    "    for i, embedding in enumerate(tqdm(embeddings)): \n",
    "        umap_embeddings[i] = umap_transform.transform([embedding])\n",
    "    return umap_embeddings   "
   ]
  },
  {
   "cell_type": "code",
   "execution_count": 13,
   "id": "058dce99-ca2b-473d-b467-9150f55a89cf",
   "metadata": {},
   "outputs": [
    {
     "name": "stderr",
     "output_type": "stream",
     "text": [
      "100%|█████████████████████████████████████████| 349/349 [01:38<00:00,  3.56it/s]\n"
     ]
    }
   ],
   "source": [
    "projected_dataset_embeddings = project_embeddings(embeddings, umap_transform)"
   ]
  },
  {
   "cell_type": "code",
   "execution_count": 16,
   "id": "8c8aeeb9-a6e5-4451-b2fd-b17df2a823da",
   "metadata": {},
   "outputs": [
    {
     "data": {
      "text/plain": [
       "(-3.042022204399109, 9.21355435848236, 3.218625855445862, 8.772371935844422)"
      ]
     },
     "execution_count": 16,
     "metadata": {},
     "output_type": "execute_result"
    },
    {
     "data": {
      "image/png": "[encoded data removed]",
      "text/plain": [
       "<Figure size 640x480 with 1 Axes>"
      ]
     },
     "metadata": {},
     "output_type": "display_data"
    }
   ],
   "source": [
    "import matplotlib.pyplot as plt\n",
    "\n",
    "plt.figure()\n",
    "plt.scatter(projected_dataset_embeddings[:, 0], projected_dataset_embeddings[:, 1], s=10)\n",
    "plt.gca().set_aspect('equal', 'datalim')\n",
    "plt.title('Projected Embeddings')\n",
    "plt.axis('off')"
   ]
  },
  {
   "cell_type": "markdown",
   "id": "4c100d1d-e334-4ca4-b9fb-f763cd7ea4ed",
   "metadata": {},
   "source": [
    "## 2.1 Visualize query and results: Relevant results"
   ]
  },
  {
   "cell_type": "code",
   "execution_count": 17,
   "id": "f1105f1c-2c2f-4c4e-bbab-a58712893a9c",
   "metadata": {},
   "outputs": [
    {
     "name": "stdout",
     "output_type": "stream",
     "text": [
      "revenue, classified by significant product and service offerings, was\n",
      "as follows : ( in millions ) year ended june 30, 2022 2021 2020 server\n",
      "products and cloud services $ 67, 321 $ 52, 589 $ 41, 379 office\n",
      "products and cloud services 44, 862 39, 872 35, 316 windows 24, 761 22,\n",
      "488 21, 510 gaming 16, 230 15, 370 11, 575 linkedin 13, 816 10, 289 8,\n",
      "077 search and news advertising 11, 591 9, 267 8, 524 enterprise\n",
      "services 7, 407 6, 943 6, 409 devices 6, 991 6, 791 6, 457 other 5, 291\n",
      "4, 479 3, 768 total $ 198, 270 $ 168, 088 $ 143, 015 we have recast\n",
      "certain previously reported amounts in the table above to conform to\n",
      "the way we internally manage and monitor our business.\n",
      "\n",
      "74 note 13 — unearned revenue unearned revenue by segment was as\n",
      "follows : ( in millions ) june 30, 2022 2021 productivity and business\n",
      "processes $ 24, 558 $ 22, 120 intelligent cloud 19, 371 17, 710 more\n",
      "personal computing 4, 479 4, 311 total $ 48, 408 $ 44, 141 changes in\n",
      "unearned revenue were as follows : ( in millions ) year ended june 30,\n",
      "2022 balance, beginning of period $ 44, 141 deferral of revenue 110,\n",
      "455 recognition of unearned revenue ( 106, 188 ) balance, end of period\n",
      "$ 48, 408 revenue allocated to remaining performance obligations, which\n",
      "includes unearned revenue and amounts that will be invoiced and\n",
      "recognized as revenue in future periods, was $ 193 billion as of june\n",
      "30, 2022, of which $ 189 billion is related to the commercial portion\n",
      "of revenue. we expect to recognize approximately 45 % of this revenue\n",
      "over the next 12\n",
      "\n",
      "82 in addition, certain costs incurred at a corporate level that are\n",
      "identifiable and that benefit our segments are allocated to them. these\n",
      "allocated costs include legal, including settlements and fines,\n",
      "information technology, human resources, finance, excise taxes, field\n",
      "selling, shared facilities services, and customer service and support.\n",
      "each allocation is measured differently based on the specific facts and\n",
      "circumstances of the costs being allocated. segment revenue and\n",
      "operating income were as follows during the periods presented : ( in\n",
      "millions ) year ended june 30, 2022 2021 2020 revenue productivity and\n",
      "business processes $ 63, 364 $ 53, 915 $ 46, 398 intelligent cloud 75,\n",
      "251 60, 080 48, 366 more personal computing 59, 655 54, 093 48, 251\n",
      "total $ 198, 270 $ 168, 088 $ 143, 015 operating income\n",
      "\n",
      "software assurance ( “ sa ” ) and cloud services. unearned revenue is\n",
      "generally invoiced annually at the beginning of each contract period\n",
      "for multi - year agreements and recognized ratably over the coverage\n",
      "period. unearned revenue also includes payments for other offerings for\n",
      "which we have been paid in advance and earn the revenue when we\n",
      "transfer control of the product or service. refer to note 1 –\n",
      "accounting policies of the notes to financial statements in our fiscal\n",
      "year 2022 form 10 - k for further discussion. the following table\n",
      "outlines the expected future recognition of unearned revenue as of june\n",
      "30, 2022 : ( in millions ) three months ending september 30, 2022 $ 17,\n",
      "691 december 31, 2022 13, 923 march 31, 2023 9, 491 june 30, 2023 4,\n",
      "433 thereafter 2, 870 total $ 48, 408 if our customers choose to\n",
      "license cloud - based versions of our products and services rather than\n",
      "licensing transaction -\n",
      "\n",
      "productivity and business processes $ 29, 687 $ 24, 351 $ 18, 724\n",
      "intelligent cloud 32, 721 26, 126 18, 324 more personal computing 20,\n",
      "975 19, 439 15, 911 total $ 83, 383 $ 69, 916 $ 52, 959 no sales to an\n",
      "individual customer or country other than the united states accounted\n",
      "for more than 10 % of revenue for fiscal years 2022, 2021, or 2020.\n",
      "revenue, classified by the major geographic areas in which our\n",
      "customers were located, was as follows : ( in millions ) year ended\n",
      "june 30, 2022 2021 2020 united states ( a ) $ 100, 218 $ 83, 953 $ 73,\n",
      "160 other countries 98, 052 84, 135 69, 855 total $ 198, 270 $ 168, 088\n",
      "$ 143, 015 ( a ) includes billings to oems and certain multinational\n",
      "organizations because of the nature of these businesses and the\n",
      "impracticability of determining the geographic source of the revenue.\n",
      "\n"
     ]
    }
   ],
   "source": [
    "query = \"What is the total revenue?\"\n",
    "\n",
    "results = chroma_collection.query(query_texts=query, n_results=5, include=['documents', 'embeddings'])\n",
    "retrieved_documents = results['documents'][0]\n",
    "for document in results['documents'][0]:\n",
    "    print(word_wrap(document))\n",
    "    print('')"
   ]
  },
  {
   "cell_type": "code",
   "execution_count": 18,
   "id": "bbd9a637-2616-489d-87de-668e48fe4138",
   "metadata": {},
   "outputs": [
    {
     "name": "stderr",
     "output_type": "stream",
     "text": [
      "100%|█████████████████████████████████████████████| 1/1 [00:00<00:00,  3.67it/s]\n",
      "100%|█████████████████████████████████████████████| 5/5 [00:01<00:00,  3.53it/s]\n"
     ]
    }
   ],
   "source": [
    "query_embedding = embedding_function([query])[0]\n",
    "retrieved_embeddings = results['embeddings'][0]\n",
    "\n",
    "projected_query_embedding = project_embeddings([query_embedding], umap_transform)\n",
    "projected_retrieved_embeddings = project_embeddings(retrieved_embeddings, umap_transform)"
   ]
  },
  {
   "cell_type": "code",
   "execution_count": 19,
   "id": "cd2cc60e-ebc5-4582-b8a1-a9785e7cf883",
   "metadata": {},
   "outputs": [
    {
     "data": {
      "text/plain": [
       "(-3.042022204399109, 9.21355435848236, 3.218625855445862, 8.772371935844422)"
      ]
     },
     "execution_count": 19,
     "metadata": {},
     "output_type": "execute_result"
    },
    {
     "data": {
      "image/png": "[encoded data removed]",
      "text/plain": [
       "<Figure size 640x480 with 1 Axes>"
      ]
     },
     "metadata": {},
     "output_type": "display_data"
    }
   ],
   "source": [
    "# Plot the projected query and retrieved documents in the embedding space\n",
    "plt.figure()\n",
    "plt.scatter(projected_dataset_embeddings[:, 0], projected_dataset_embeddings[:, 1], s=10, color='gray')\n",
    "plt.scatter(projected_query_embedding[:, 0], projected_query_embedding[:, 1], s=150, marker='X', color='r')\n",
    "plt.scatter(projected_retrieved_embeddings[:, 0], projected_retrieved_embeddings[:, 1], s=100, facecolors='none', edgecolors='g')\n",
    "\n",
    "plt.gca().set_aspect('equal', 'datalim')\n",
    "plt.title(f'{query}')\n",
    "plt.axis('off')"
   ]
  },
  {
   "cell_type": "markdown",
   "id": "e3069de8-996a-4c62-b14f-68340eb3ecd0",
   "metadata": {},
   "source": [
    "## 2.2 Visualize query and results: Wide spreaded / non relevant results"
   ]
  },
  {
   "cell_type": "code",
   "execution_count": 20,
   "id": "7cee6f4c-1f0b-4a15-b451-27beee15a017",
   "metadata": {},
   "outputs": [
    {
     "name": "stdout",
     "output_type": "stream",
     "text": [
      "18 total rewards we develop dynamic, sustainable, market - driven, and\n",
      "strategic programs with the goal of providing a highly differentiated\n",
      "portfolio to attract, reward, and retain top talent and enable our\n",
      "employees to thrive. these programs reinforce our culture and values\n",
      "such as collaboration and growth mindset. managers evaluate and\n",
      "recommend rewards based on, for example, how well we leverage the work\n",
      "of others and contribute to the success of our colleagues. we monitor\n",
      "pay equity and career progress across multiple dimensions. as part of\n",
      "our effort to promote a one microsoft and inclusive culture, in fiscal\n",
      "year 2021 we expanded stock eligibility to all microsoft employees as\n",
      "part of our annual rewards process. this includes all non - exempt and\n",
      "exempt employees and equivalents across the globe including business\n",
      "support professionals and datacenter and retail employees. in response\n",
      "\n",
      "19 • in - the - classroom learning, learning cohorts, our early - in -\n",
      "career aspire program, and manager excellence communities. • required\n",
      "learning for all employees and managers on topics such as compliance,\n",
      "regulation, company culture, leadership, and management. this includes\n",
      "the annual standards of business conduct training. • on - the - job “\n",
      "stretch ” and advancement opportunities. • managers holding\n",
      "conversations about employees ’ career and development plans, coaching\n",
      "on career opportunities, and programs like mentoring and sponsorship. •\n",
      "customized manager learning to build people manager capabilities and\n",
      "similar learning solutions to build leadership skills for all employees\n",
      "including differentiated leadership development programs. • new\n",
      "employee orientation covering a range of topics including company\n",
      "values, and culture, as well as ongoing onboarding programs.\n",
      "\n",
      "17 as of june 30, 2022, we employed approximately 221, 000 people on a\n",
      "full - time basis, 122, 000 in the u. s. and 99, 000 internationally.\n",
      "of the total employed people, 85, 000 were in operations, including\n",
      "manufacturing, distribution, product support, and consulting services ;\n",
      "73, 000 were in product research and development ; 47, 000 were in\n",
      "sales and marketing ; and 16, 000 were in general and administration.\n",
      "certain employees are subject to collective bargaining agreements. our\n",
      "culture microsoft ’ s culture is grounded in the growth mindset. this\n",
      "means everyone is on a continuous journey to learn and grow. we believe\n",
      "potential can be nurtured and is not pre - determined, and we should\n",
      "always be learning and curious – trying new things without fear of\n",
      "failure. we identified four attributes that allow growth mindset to\n",
      "flourish : • obsessing over what matters to our customers. • becoming\n",
      "more diverse and inclusive in everything we do.\n",
      "\n",
      "32 services. the metrics are disclosed in the md & a or the notes to\n",
      "financial statements in our fiscal year 2022 form 10 - k. financial\n",
      "metrics are calculated based on financial results prepared in\n",
      "accordance with accounting principles generally accepted in the united\n",
      "states of america ( “ gaap ” ), and growth comparisons relate to the\n",
      "corresponding period of last fiscal year. in the first quarter of\n",
      "fiscal year 2022, we made updates to the presentation and method of\n",
      "calculation for certain metrics, most notably changes to incorporate\n",
      "all current and anticipated revenue streams within our office consumer\n",
      "and server products and cloud services metrics and changes to align\n",
      "with how we manage our windows oem and search and news advertising\n",
      "businesses. none of these changes had a material impact on previously\n",
      "reported amounts in our md & a. in the third quarter of fiscal year\n",
      "2022, we completed our acquisition of nuance. nuance is included in all\n",
      "commercial\n",
      "\n",
      "fiscal year 2021 was a year of both successes and challenges. while we\n",
      "continued to make progress on several of our goals, with an overall\n",
      "reduction in our combined scope 1 and scope 2 emissions, our scope 3\n",
      "emissions increased, due in substantial part to significant global\n",
      "datacenter expansions and growth in xbox sales and usage as a result of\n",
      "the covid - 19 pandemic. despite these scope 3 increases, we will\n",
      "continue to build the foundations and do the work to deliver on our\n",
      "commitments, and help our customers and partners achieve theirs. we\n",
      "have learned the impact of our work will not all be felt immediately,\n",
      "and our experience highlights how progress won ’ t always be linear.\n",
      "while fiscal year 2021 presented us with some new learnings, we also\n",
      "made some great progress. a few examples that illuminate the diversity\n",
      "of our work include : • we purchased the removal of 1. 4 million\n",
      "metrics tons of carbon.\n",
      "\n"
     ]
    }
   ],
   "source": [
    "query = \"What has Michael Jordan done for us lately?\"\n",
    "results = chroma_collection.query(query_texts=query, n_results=5, include=['documents', 'embeddings'])\n",
    "\n",
    "retrieved_documents = results['documents'][0]\n",
    "\n",
    "for document in results['documents'][0]:\n",
    "    print(word_wrap(document))\n",
    "    print('')"
   ]
  },
  {
   "cell_type": "code",
   "execution_count": 21,
   "id": "e82b31ef-aa51-4e03-9cfe-667327b4e241",
   "metadata": {},
   "outputs": [
    {
     "name": "stderr",
     "output_type": "stream",
     "text": [
      "100%|█████████████████████████████████████████████| 1/1 [00:00<00:00,  3.62it/s]\n",
      "100%|█████████████████████████████████████████████| 5/5 [00:01<00:00,  3.36it/s]\n"
     ]
    }
   ],
   "source": [
    "query_embedding = embedding_function([query])[0]\n",
    "retrieved_embeddings = results['embeddings'][0]\n",
    "\n",
    "projected_query_embedding = project_embeddings([query_embedding], umap_transform)\n",
    "projected_retrieved_embeddings = project_embeddings(retrieved_embeddings, umap_transform)"
   ]
  },
  {
   "cell_type": "code",
   "execution_count": 22,
   "id": "a4a2c6a2-b66c-4539-9cd6-1c8a1aa49264",
   "metadata": {},
   "outputs": [
    {
     "data": {
      "text/plain": [
       "(-3.042022204399109, 9.21355435848236, 3.218625855445862, 8.772371935844422)"
      ]
     },
     "execution_count": 22,
     "metadata": {},
     "output_type": "execute_result"
    },
    {
     "data": {
      "image/png": "[encoded data removed]",
      "text/plain": [
       "<Figure size 640x480 with 1 Axes>"
      ]
     },
     "metadata": {},
     "output_type": "display_data"
    }
   ],
   "source": [
    "# Plot the projected query and retrieved documents in the embedding space\n",
    "plt.figure()\n",
    "plt.scatter(projected_dataset_embeddings[:, 0], projected_dataset_embeddings[:, 1], s=10, color='gray')\n",
    "plt.scatter(projected_query_embedding[:, 0], projected_query_embedding[:, 1], s=150, marker='X', color='r')\n",
    "plt.scatter(projected_retrieved_embeddings[:, 0], projected_retrieved_embeddings[:, 1], s=100, facecolors='none', edgecolors='g')\n",
    "\n",
    "plt.gca().set_aspect('equal', 'datalim')\n",
    "plt.title(f'{query}')\n",
    "plt.axis('off')"
   ]
  },
  {
   "cell_type": "code",
   "execution_count": null,
   "id": "90ad80e8-1f96-4861-a698-5f54c5c24898",
   "metadata": {},
   "outputs": [],
   "source": []
  }
 ],
 "metadata": {
  "kernelspec": {
   "display_name": "Python 3 (ipykernel)",
   "language": "python",
   "name": "python3"
  },
  "language_info": {
   "codemirror_mode": {
    "name": "ipython",
    "version": 3
   },
   "file_extension": ".py",
   "mimetype": "text/x-python",
   "name": "python",
   "nbconvert_exporter": "python",
   "pygments_lexer": "ipython3",
   "version": "3.11.3"
  }
 },
 "nbformat": 4,
 "nbformat_minor": 5
}
